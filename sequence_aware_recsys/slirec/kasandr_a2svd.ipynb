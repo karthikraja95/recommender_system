{
 "cells": [
  {
   "cell_type": "markdown",
   "id": "adjusted-student",
   "metadata": {},
   "source": [
    "## Introduction \n",
    "\n",
    "This is the first in a series of two notebooks that explore different sequence aware recommender system methods. In this notebook we will explore a relatively simple baseline method - [Attentive Asynchronous Singular Value Decomposition](https://github.com/microsoft/recommenders). In the following notebook, we will explore a more advanced technique [Short-term and Long-term preference Integrated\n",
    "Recommender system](https://www.microsoft.com/en-us/research/uploads/prod/2019/07/IJCAI19-ready_v1.pdf) (SLi-Rec). Both methods will be applied to the [Amazon Review Dataset](https://nijianmo.github.io/amazon/index.html). Specifically, the Movies and TV dataset is used which contains 8,765,568 reviews of 203,970 products. \n",
    "\n",
    "## Attentive Asymmetric Singular Value Decomposition\n",
    "Matrix factorization approaches have been widely used to model the long term preferences of users. In the standard setup, user and item latent factors are determined such that there product approximates the ratings matrix. \n",
    "\n",
    "<p align=\"center\"> \n",
    "<img width=\"598\" alt=\"Screen Shot 2022-08-03 at 12 47 53 PM\" src=\"https://user-images.githubusercontent.com/34798787/182664416-4ca4ab67-8f76-4c22-aedd-13d326e3161a.png\">\n",
    "</p> \n",
    "\n",
    "Early approaches to matrix factoriztion use a singular value decomposition (SVD) to determine the item and latent factors. In practice, the ratings matrix is sparse so the SVD can be ineffective. Instead, stochastic gradient descent is often used to learn user factors $p_i$ and item factors $q_j$ that approximate **observed** ratings $r_{i, j}$ \n",
    "\n",
    "$$\n",
    "\\begin{eqnarray}\n",
    "\\min_{p, q} \n",
    "\\sum_{i, j \\in R}{(r_{i, j} - p_i^T q_j)^2 + \\lambda(||p_i||^2 + ||q_j||^2)}\n",
    "\\end{eqnarray}\n",
    "$$\n",
    "\n",
    "Matrix factorization approaches that avoid explicitly parametizing users have also been proposed. The size of the item set is typically much smaller than the size of the user set so this drastically reduces the amount of parameters. An example of one such approach is the Asymmetric-SVD which represents users as combination of item latent factors $q_j$ weighted by coefficients $a_{k}^{l}$:\n",
    "\n",
    "$$\n",
    "\\begin{eqnarray}\n",
    "p_u = \\sum_{j \\in R} a_{j} q_j\n",
    "\\end{eqnarray}\n",
    "$$\n",
    "\n",
    "$a_j$ is the weigting score for behaviour $j$. Thus, it should assign a higher weights to behaviours that are more informative. In the recently proposed [Short-term and Long-term preference Integrated\n",
    "Recommender system](https://www.microsoft.com/en-us/research/uploads/prod/2019/07/IJCAI19-ready_v1.pdf) (SLi-Rec), $a_j$ is computed as an attention score across items a user has interacted with. The resultant model is reffered to as Attentive Asymmetric Singular Value Decomposition (A2SVD). A2SVD is used in the SLi-Rec to model long term preferences of users. We will explore the SLi-Rec method in the next notebook. However, in this notebook we will be focusing on A2SVD method. \n"
   ]
  },
  {
   "cell_type": "markdown",
   "id": "sublime-neighborhood",
   "metadata": {},
   "source": [
    "## Package Imports and Global Variables"
   ]
  },
  {
   "cell_type": "code",
   "execution_count": 1,
   "id": "pretty-people",
   "metadata": {},
   "outputs": [],
   "source": [
    "# Package Imports\n",
    "import os\n",
    "import time\n",
    "import warnings\n",
    "warnings.filterwarnings(\"ignore\")\n",
    "\n",
    "import numpy as np \n",
    "import pandas as pd\n",
    "import tensorflow as tf\n",
    "import tensorboard as tb\n",
    "import matplotlib.pyplot as plt\n",
    "from pathlib import Path\n",
    "\n",
    "from recommenders.utils.timer import Timer\n",
    "from recommenders.models.deeprec.deeprec_utils import prepare_hparams\n",
    "from recommenders.models.deeprec.io.sequential_iterator import SequentialIterator\n",
    "from recommenders.models.deeprec.models.sequential.asvd import A2SVDModel\n",
    "from recommenders.models.deeprec.models.base_model import BaseModel\n",
    "\n",
    "# Local Imports \n",
    "from model import A2SVDModel_Custom as SeqModel\n",
    "from utils import create_vocab"
   ]
  },
  {
   "cell_type": "code",
   "execution_count": 2,
   "id": "robust-commons",
   "metadata": {},
   "outputs": [],
   "source": [
    "# DATA_PATH = \"/ssd003/projects/aieng/public/recsys_datasets/amazon\"\n",
    "DATA_PATH = Path(f'./Data/kasandr')\n",
    "\n",
    "BASE_LOG_PATH = \"logs\"\n",
    "BASE_MODEL_PATH = \"models\"\n",
    "REVIEWS_FILE = 'reviews_Movies_and_TV_5.json'\n",
    "META_FILE = 'meta_Movies_and_TV.json'\n",
    "\n",
    "YAML_PATH = \"config/asvd.yaml\"\n",
    "\n",
    "\n",
    "EPOCHS = 10\n",
    "BATCH_SIZE = 400\n",
    "RANDOM_SEED = 42\n",
    "\n",
    "train_num_ngs = 4\n",
    "valid_num_ngs = 4"
   ]
  },
  {
   "cell_type": "code",
   "execution_count": 5,
   "id": "steady-germany",
   "metadata": {},
   "outputs": [
    {
     "name": "stdout",
     "output_type": "stream",
     "text": [
      "[PhysicalDevice(name='/physical_device:GPU:0', device_type='GPU')]\n"
     ]
    }
   ],
   "source": [
    "print(tf.config.list_physical_devices('GPU'))"
   ]
  },
  {
   "cell_type": "code",
   "execution_count": 6,
   "id": "failing-employee",
   "metadata": {},
   "outputs": [],
   "source": [
    "# Directories to store train, validation and test splits\n",
    "train_path = os.path.join(DATA_PATH, r'train_data')\n",
    "valid_path = os.path.join(DATA_PATH, r'valid_data')\n",
    "test_path = os.path.join(DATA_PATH, r'test_data')\n",
    "\n",
    "# Files paths to store the list of existing ids for user, item and item category \n",
    "user_vocab_path = os.path.join(DATA_PATH, r'user_vocab.pkl')\n",
    "item_vocab_path = os.path.join(DATA_PATH, r'item_vocab.pkl')\n",
    "cate_vocab_path = os.path.join(DATA_PATH, r'category_vocab.pkl')\n",
    "output_file_path = os.path.join(DATA_PATH, r'output.txt')\n",
    "\n",
    "# File paths to store reviews and associated metadata\n",
    "reviews_path = os.path.join(DATA_PATH, REVIEWS_FILE)\n",
    "meta_path = os.path.join(DATA_PATH, META_FILE)\n",
    "\n",
    "valid_num_ngs = 4 # number of negative instances with a positive instance for validation\n",
    "test_num_ngs = 9 # number of negative instances with a positive instance for testing\n",
    "\n",
    "# create run drectory to store results\n",
    "if os.path.exists(BASE_MODEL_PATH) == False:\n",
    "    os.mkdir(BASE_MODEL_PATH)\n",
    "    \n",
    "MODEL_PATH = f\"{BASE_MODEL_PATH}/{str(time.time())}\"\n",
    "\n",
    "if os.path.exists(BASE_LOG_PATH) == False:\n",
    "    os.mkdir(BASE_LOG_PATH)\n",
    "\n",
    "LOG_PATH = f\"{BASE_LOG_PATH}/{str(time.time())}\""
   ]
  },
  {
   "cell_type": "markdown",
   "id": "intended-learning",
   "metadata": {},
   "source": [
    "## Data Loading \n",
    "\n",
    "Given that the data is preprocessed in the [amazon_preprocessing notebook](amazon_preprocessing.ipynb), no further processing is required. In this section, we will briefly analyze the train, validation and test sets to get aquainted with the data we will be modelling. Futhermore, a data loader will be defined to iteratively fetch samples from the datasets during training and evaluation. \n",
    "\n",
    "The train dataset consists of a dataframe where each record is a review of a product `item_id` in category `cate_id` at time `timestamp` by user `user_id`. Each record also contains the list of previous items the user interacted with `prev_ids` along with the corresponding categories `prev_cate_ids` and timestamps `prev_timestamps`."
   ]
  },
  {
   "cell_type": "code",
   "execution_count": 8,
   "id": "neither-position",
   "metadata": {},
   "outputs": [
    {
     "data": {
      "text/html": [
       "<div>\n",
       "<style scoped>\n",
       "    .dataframe tbody tr th:only-of-type {\n",
       "        vertical-align: middle;\n",
       "    }\n",
       "\n",
       "    .dataframe tbody tr th {\n",
       "        vertical-align: top;\n",
       "    }\n",
       "\n",
       "    .dataframe thead th {\n",
       "        text-align: right;\n",
       "    }\n",
       "</style>\n",
       "<table border=\"1\" class=\"dataframe\">\n",
       "  <thead>\n",
       "    <tr style=\"text-align: right;\">\n",
       "      <th></th>\n",
       "      <th>label</th>\n",
       "      <th>user_id</th>\n",
       "      <th>item_id</th>\n",
       "      <th>cate_id</th>\n",
       "      <th>timestamp</th>\n",
       "      <th>prev_item_ids</th>\n",
       "      <th>prev_cate_ids</th>\n",
       "      <th>prev_timestamps</th>\n",
       "    </tr>\n",
       "  </thead>\n",
       "  <tbody>\n",
       "    <tr>\n",
       "      <th>0</th>\n",
       "      <td>1</td>\n",
       "      <td>0053b8d4cc3ffb98201781e8d2ac7f668513248f5d5d51...</td>\n",
       "      <td>cdca1333b6820ab29501f879d8dae7c9</td>\n",
       "      <td>Other</td>\n",
       "      <td>1464867431</td>\n",
       "      <td>cdca1333b6820ab29501f879d8dae7c9</td>\n",
       "      <td>Other</td>\n",
       "      <td>1464807455</td>\n",
       "    </tr>\n",
       "    <tr>\n",
       "      <th>1</th>\n",
       "      <td>1</td>\n",
       "      <td>0053b8d4cc3ffb98201781e8d2ac7f668513248f5d5d51...</td>\n",
       "      <td>cdca1333b6820ab29501f879d8dae7c9</td>\n",
       "      <td>Other</td>\n",
       "      <td>1464867447</td>\n",
       "      <td>cdca1333b6820ab29501f879d8dae7c9,cdca1333b6820...</td>\n",
       "      <td>Other,Other</td>\n",
       "      <td>1464807455,1464867431</td>\n",
       "    </tr>\n",
       "    <tr>\n",
       "      <th>2</th>\n",
       "      <td>1</td>\n",
       "      <td>0053b8d4cc3ffb98201781e8d2ac7f668513248f5d5d51...</td>\n",
       "      <td>cdca1333b6820ab29501f879d8dae7c9</td>\n",
       "      <td>Other</td>\n",
       "      <td>1464867528</td>\n",
       "      <td>cdca1333b6820ab29501f879d8dae7c9,cdca1333b6820...</td>\n",
       "      <td>Other,Other,Other</td>\n",
       "      <td>1464807455,1464867431,1464867447</td>\n",
       "    </tr>\n",
       "    <tr>\n",
       "      <th>3</th>\n",
       "      <td>1</td>\n",
       "      <td>0053b8d4cc3ffb98201781e8d2ac7f668513248f5d5d51...</td>\n",
       "      <td>cdca1333b6820ab29501f879d8dae7c9</td>\n",
       "      <td>Other</td>\n",
       "      <td>1464867577</td>\n",
       "      <td>cdca1333b6820ab29501f879d8dae7c9,cdca1333b6820...</td>\n",
       "      <td>Other,Other,Other,Other</td>\n",
       "      <td>1464807455,1464867431,1464867447,1464867528</td>\n",
       "    </tr>\n",
       "    <tr>\n",
       "      <th>4</th>\n",
       "      <td>1</td>\n",
       "      <td>0053b8d4cc3ffb98201781e8d2ac7f668513248f5d5d51...</td>\n",
       "      <td>cdca1333b6820ab29501f879d8dae7c9</td>\n",
       "      <td>Other</td>\n",
       "      <td>1464867922</td>\n",
       "      <td>cdca1333b6820ab29501f879d8dae7c9,cdca1333b6820...</td>\n",
       "      <td>Other,Other,Other,Other,Other</td>\n",
       "      <td>1464807455,1464867431,1464867447,1464867528,14...</td>\n",
       "    </tr>\n",
       "    <tr>\n",
       "      <th>...</th>\n",
       "      <td>...</td>\n",
       "      <td>...</td>\n",
       "      <td>...</td>\n",
       "      <td>...</td>\n",
       "      <td>...</td>\n",
       "      <td>...</td>\n",
       "      <td>...</td>\n",
       "      <td>...</td>\n",
       "    </tr>\n",
       "    <tr>\n",
       "      <th>23822</th>\n",
       "      <td>1</td>\n",
       "      <td>fffea4925ff656615c4e6b690cf1cce459237f36b64de3...</td>\n",
       "      <td>c15ed4a6bcf39c880f56d03fe1aec56a</td>\n",
       "      <td>Other</td>\n",
       "      <td>1464876998</td>\n",
       "      <td>162decae9179e5b628166ffafca22ab1</td>\n",
       "      <td>Other</td>\n",
       "      <td>1464807808</td>\n",
       "    </tr>\n",
       "    <tr>\n",
       "      <th>23823</th>\n",
       "      <td>1</td>\n",
       "      <td>fffea4925ff656615c4e6b690cf1cce459237f36b64de3...</td>\n",
       "      <td>75f9aa1430b0e847acb3040e7207784f</td>\n",
       "      <td>Other</td>\n",
       "      <td>1464983603</td>\n",
       "      <td>162decae9179e5b628166ffafca22ab1,c15ed4a6bcf39...</td>\n",
       "      <td>Other,Other</td>\n",
       "      <td>1464807808,1464876998</td>\n",
       "    </tr>\n",
       "    <tr>\n",
       "      <th>23824</th>\n",
       "      <td>1</td>\n",
       "      <td>fffea4925ff656615c4e6b690cf1cce459237f36b64de3...</td>\n",
       "      <td>0e314aac8bb3e8b47cb665a4a62009d1</td>\n",
       "      <td>Other</td>\n",
       "      <td>1464983618</td>\n",
       "      <td>162decae9179e5b628166ffafca22ab1,c15ed4a6bcf39...</td>\n",
       "      <td>Other,Other,Other</td>\n",
       "      <td>1464807808,1464876998,1464983603</td>\n",
       "    </tr>\n",
       "    <tr>\n",
       "      <th>23825</th>\n",
       "      <td>1</td>\n",
       "      <td>fffea4925ff656615c4e6b690cf1cce459237f36b64de3...</td>\n",
       "      <td>131c583fddb7f37a3172f01867d8c48d</td>\n",
       "      <td>Other</td>\n",
       "      <td>1465394490</td>\n",
       "      <td>162decae9179e5b628166ffafca22ab1,c15ed4a6bcf39...</td>\n",
       "      <td>Other,Other,Other,Other</td>\n",
       "      <td>1464807808,1464876998,1464983603,1464983618</td>\n",
       "    </tr>\n",
       "    <tr>\n",
       "      <th>23826</th>\n",
       "      <td>1</td>\n",
       "      <td>fffea4925ff656615c4e6b690cf1cce459237f36b64de3...</td>\n",
       "      <td>dd07b38db5e79ae18d8dd8bfd143277e</td>\n",
       "      <td>Other</td>\n",
       "      <td>1465394490</td>\n",
       "      <td>162decae9179e5b628166ffafca22ab1,c15ed4a6bcf39...</td>\n",
       "      <td>Other,Other,Other,Other,Other</td>\n",
       "      <td>1464807808,1464876998,1464983603,1464983618,14...</td>\n",
       "    </tr>\n",
       "  </tbody>\n",
       "</table>\n",
       "<p>23827 rows × 8 columns</p>\n",
       "</div>"
      ],
      "text/plain": [
       "       label                                            user_id  \\\n",
       "0          1  0053b8d4cc3ffb98201781e8d2ac7f668513248f5d5d51...   \n",
       "1          1  0053b8d4cc3ffb98201781e8d2ac7f668513248f5d5d51...   \n",
       "2          1  0053b8d4cc3ffb98201781e8d2ac7f668513248f5d5d51...   \n",
       "3          1  0053b8d4cc3ffb98201781e8d2ac7f668513248f5d5d51...   \n",
       "4          1  0053b8d4cc3ffb98201781e8d2ac7f668513248f5d5d51...   \n",
       "...      ...                                                ...   \n",
       "23822      1  fffea4925ff656615c4e6b690cf1cce459237f36b64de3...   \n",
       "23823      1  fffea4925ff656615c4e6b690cf1cce459237f36b64de3...   \n",
       "23824      1  fffea4925ff656615c4e6b690cf1cce459237f36b64de3...   \n",
       "23825      1  fffea4925ff656615c4e6b690cf1cce459237f36b64de3...   \n",
       "23826      1  fffea4925ff656615c4e6b690cf1cce459237f36b64de3...   \n",
       "\n",
       "                                item_id cate_id   timestamp  \\\n",
       "0      cdca1333b6820ab29501f879d8dae7c9   Other  1464867431   \n",
       "1      cdca1333b6820ab29501f879d8dae7c9   Other  1464867447   \n",
       "2      cdca1333b6820ab29501f879d8dae7c9   Other  1464867528   \n",
       "3      cdca1333b6820ab29501f879d8dae7c9   Other  1464867577   \n",
       "4      cdca1333b6820ab29501f879d8dae7c9   Other  1464867922   \n",
       "...                                 ...     ...         ...   \n",
       "23822  c15ed4a6bcf39c880f56d03fe1aec56a   Other  1464876998   \n",
       "23823  75f9aa1430b0e847acb3040e7207784f   Other  1464983603   \n",
       "23824  0e314aac8bb3e8b47cb665a4a62009d1   Other  1464983618   \n",
       "23825  131c583fddb7f37a3172f01867d8c48d   Other  1465394490   \n",
       "23826  dd07b38db5e79ae18d8dd8bfd143277e   Other  1465394490   \n",
       "\n",
       "                                           prev_item_ids  \\\n",
       "0                       cdca1333b6820ab29501f879d8dae7c9   \n",
       "1      cdca1333b6820ab29501f879d8dae7c9,cdca1333b6820...   \n",
       "2      cdca1333b6820ab29501f879d8dae7c9,cdca1333b6820...   \n",
       "3      cdca1333b6820ab29501f879d8dae7c9,cdca1333b6820...   \n",
       "4      cdca1333b6820ab29501f879d8dae7c9,cdca1333b6820...   \n",
       "...                                                  ...   \n",
       "23822                   162decae9179e5b628166ffafca22ab1   \n",
       "23823  162decae9179e5b628166ffafca22ab1,c15ed4a6bcf39...   \n",
       "23824  162decae9179e5b628166ffafca22ab1,c15ed4a6bcf39...   \n",
       "23825  162decae9179e5b628166ffafca22ab1,c15ed4a6bcf39...   \n",
       "23826  162decae9179e5b628166ffafca22ab1,c15ed4a6bcf39...   \n",
       "\n",
       "                       prev_cate_ids  \\\n",
       "0                              Other   \n",
       "1                        Other,Other   \n",
       "2                  Other,Other,Other   \n",
       "3            Other,Other,Other,Other   \n",
       "4      Other,Other,Other,Other,Other   \n",
       "...                              ...   \n",
       "23822                          Other   \n",
       "23823                    Other,Other   \n",
       "23824              Other,Other,Other   \n",
       "23825        Other,Other,Other,Other   \n",
       "23826  Other,Other,Other,Other,Other   \n",
       "\n",
       "                                         prev_timestamps  \n",
       "0                                             1464807455  \n",
       "1                                  1464807455,1464867431  \n",
       "2                       1464807455,1464867431,1464867447  \n",
       "3            1464807455,1464867431,1464867447,1464867528  \n",
       "4      1464807455,1464867431,1464867447,1464867528,14...  \n",
       "...                                                  ...  \n",
       "23822                                         1464807808  \n",
       "23823                              1464807808,1464876998  \n",
       "23824                   1464807808,1464876998,1464983603  \n",
       "23825        1464807808,1464876998,1464983603,1464983618  \n",
       "23826  1464807808,1464876998,1464983603,1464983618,14...  \n",
       "\n",
       "[23827 rows x 8 columns]"
      ]
     },
     "execution_count": 8,
     "metadata": {},
     "output_type": "execute_result"
    }
   ],
   "source": [
    "train_df = pd.read_csv(train_path, sep=\"\\t\", index_col=False, names=[\"label\", \"user_id\", \"item_id\", \"cate_id\", \"timestamp\", \"prev_item_ids\", \"prev_cate_ids\", \"prev_timestamps\"])\n",
    "train_df"
   ]
  },
  {
   "cell_type": "markdown",
   "id": "earned-alias",
   "metadata": {},
   "source": [
    "The validation and test datasets share the schema as the train dataset. The only key distinction is that the evaluations sets contain negative samples which are denoted by a label of 0. Negative samples are interactions between users and items that have not occured. They are included so we can compute metrics of how well the generated recommendations approximate the users actual behaviour. "
   ]
  },
  {
   "cell_type": "code",
   "execution_count": 9,
   "id": "psychological-sauce",
   "metadata": {},
   "outputs": [
    {
     "data": {
      "text/html": [
       "<div>\n",
       "<style scoped>\n",
       "    .dataframe tbody tr th:only-of-type {\n",
       "        vertical-align: middle;\n",
       "    }\n",
       "\n",
       "    .dataframe tbody tr th {\n",
       "        vertical-align: top;\n",
       "    }\n",
       "\n",
       "    .dataframe thead th {\n",
       "        text-align: right;\n",
       "    }\n",
       "</style>\n",
       "<table border=\"1\" class=\"dataframe\">\n",
       "  <thead>\n",
       "    <tr style=\"text-align: right;\">\n",
       "      <th></th>\n",
       "      <th>label</th>\n",
       "      <th>user_id</th>\n",
       "      <th>item_id</th>\n",
       "      <th>cate_id</th>\n",
       "      <th>timestamp</th>\n",
       "      <th>prev_item_ids</th>\n",
       "      <th>prev_cate_ids</th>\n",
       "      <th>prev_timestamps</th>\n",
       "    </tr>\n",
       "  </thead>\n",
       "  <tbody>\n",
       "    <tr>\n",
       "      <th>0</th>\n",
       "      <td>1</td>\n",
       "      <td>0051becd5b9fed9a79ffa923e256e28f3eeadd80206cee...</td>\n",
       "      <td>a5e01c7b865e0ae92bd78ad6db1d1576</td>\n",
       "      <td>Other</td>\n",
       "      <td>1464943154</td>\n",
       "      <td>b203435e0ca71f90508403e762d3a42f</td>\n",
       "      <td>Other</td>\n",
       "      <td>1464850748</td>\n",
       "    </tr>\n",
       "    <tr>\n",
       "      <th>1</th>\n",
       "      <td>0</td>\n",
       "      <td>0051becd5b9fed9a79ffa923e256e28f3eeadd80206cee...</td>\n",
       "      <td>5a6a0ad75329c2721d7273cf8cbb7b63</td>\n",
       "      <td>Other</td>\n",
       "      <td>1464943154</td>\n",
       "      <td>b203435e0ca71f90508403e762d3a42f</td>\n",
       "      <td>Other</td>\n",
       "      <td>1464850748</td>\n",
       "    </tr>\n",
       "    <tr>\n",
       "      <th>2</th>\n",
       "      <td>0</td>\n",
       "      <td>0051becd5b9fed9a79ffa923e256e28f3eeadd80206cee...</td>\n",
       "      <td>d1b4365db02dd693661e0186dbfcc2e7</td>\n",
       "      <td>Other</td>\n",
       "      <td>1464943154</td>\n",
       "      <td>b203435e0ca71f90508403e762d3a42f</td>\n",
       "      <td>Other</td>\n",
       "      <td>1464850748</td>\n",
       "    </tr>\n",
       "    <tr>\n",
       "      <th>3</th>\n",
       "      <td>0</td>\n",
       "      <td>0051becd5b9fed9a79ffa923e256e28f3eeadd80206cee...</td>\n",
       "      <td>7b77553a80a31ccf5d0fe2a387748575</td>\n",
       "      <td>Other</td>\n",
       "      <td>1464943154</td>\n",
       "      <td>b203435e0ca71f90508403e762d3a42f</td>\n",
       "      <td>Other</td>\n",
       "      <td>1464850748</td>\n",
       "    </tr>\n",
       "    <tr>\n",
       "      <th>4</th>\n",
       "      <td>0</td>\n",
       "      <td>0051becd5b9fed9a79ffa923e256e28f3eeadd80206cee...</td>\n",
       "      <td>0f2fcf95319f5c1e5745371351f521e5</td>\n",
       "      <td>Other</td>\n",
       "      <td>1464943154</td>\n",
       "      <td>b203435e0ca71f90508403e762d3a42f</td>\n",
       "      <td>Other</td>\n",
       "      <td>1464850748</td>\n",
       "    </tr>\n",
       "    <tr>\n",
       "      <th>...</th>\n",
       "      <td>...</td>\n",
       "      <td>...</td>\n",
       "      <td>...</td>\n",
       "      <td>...</td>\n",
       "      <td>...</td>\n",
       "      <td>...</td>\n",
       "      <td>...</td>\n",
       "      <td>...</td>\n",
       "    </tr>\n",
       "    <tr>\n",
       "      <th>12065</th>\n",
       "      <td>1</td>\n",
       "      <td>fffea4925ff656615c4e6b690cf1cce459237f36b64de3...</td>\n",
       "      <td>d37111749fe898b02f86688363a4598b</td>\n",
       "      <td>Other</td>\n",
       "      <td>1465397402</td>\n",
       "      <td>162decae9179e5b628166ffafca22ab1,c15ed4a6bcf39...</td>\n",
       "      <td>Other,Other,Other,Other,Other,Other</td>\n",
       "      <td>1464807808,1464876998,1464983603,1464983618,14...</td>\n",
       "    </tr>\n",
       "    <tr>\n",
       "      <th>12066</th>\n",
       "      <td>0</td>\n",
       "      <td>fffea4925ff656615c4e6b690cf1cce459237f36b64de3...</td>\n",
       "      <td>0fc06555404935b0bc18407da4c143b5</td>\n",
       "      <td>Other</td>\n",
       "      <td>1465397402</td>\n",
       "      <td>162decae9179e5b628166ffafca22ab1,c15ed4a6bcf39...</td>\n",
       "      <td>Other,Other,Other,Other,Other,Other</td>\n",
       "      <td>1464807808,1464876998,1464983603,1464983618,14...</td>\n",
       "    </tr>\n",
       "    <tr>\n",
       "      <th>12067</th>\n",
       "      <td>0</td>\n",
       "      <td>fffea4925ff656615c4e6b690cf1cce459237f36b64de3...</td>\n",
       "      <td>a5fc37404646ac3d34118489cdbfb341</td>\n",
       "      <td>Other</td>\n",
       "      <td>1465397402</td>\n",
       "      <td>162decae9179e5b628166ffafca22ab1,c15ed4a6bcf39...</td>\n",
       "      <td>Other,Other,Other,Other,Other,Other</td>\n",
       "      <td>1464807808,1464876998,1464983603,1464983618,14...</td>\n",
       "    </tr>\n",
       "    <tr>\n",
       "      <th>12068</th>\n",
       "      <td>0</td>\n",
       "      <td>fffea4925ff656615c4e6b690cf1cce459237f36b64de3...</td>\n",
       "      <td>eb0389774fca117ee06c5c02a6ba76af</td>\n",
       "      <td>Other</td>\n",
       "      <td>1465397402</td>\n",
       "      <td>162decae9179e5b628166ffafca22ab1,c15ed4a6bcf39...</td>\n",
       "      <td>Other,Other,Other,Other,Other,Other</td>\n",
       "      <td>1464807808,1464876998,1464983603,1464983618,14...</td>\n",
       "    </tr>\n",
       "    <tr>\n",
       "      <th>12069</th>\n",
       "      <td>0</td>\n",
       "      <td>fffea4925ff656615c4e6b690cf1cce459237f36b64de3...</td>\n",
       "      <td>0f2fcf95319f5c1e5745371351f521e5</td>\n",
       "      <td>Other</td>\n",
       "      <td>1465397402</td>\n",
       "      <td>162decae9179e5b628166ffafca22ab1,c15ed4a6bcf39...</td>\n",
       "      <td>Other,Other,Other,Other,Other,Other</td>\n",
       "      <td>1464807808,1464876998,1464983603,1464983618,14...</td>\n",
       "    </tr>\n",
       "  </tbody>\n",
       "</table>\n",
       "<p>12070 rows × 8 columns</p>\n",
       "</div>"
      ],
      "text/plain": [
       "       label                                            user_id  \\\n",
       "0          1  0051becd5b9fed9a79ffa923e256e28f3eeadd80206cee...   \n",
       "1          0  0051becd5b9fed9a79ffa923e256e28f3eeadd80206cee...   \n",
       "2          0  0051becd5b9fed9a79ffa923e256e28f3eeadd80206cee...   \n",
       "3          0  0051becd5b9fed9a79ffa923e256e28f3eeadd80206cee...   \n",
       "4          0  0051becd5b9fed9a79ffa923e256e28f3eeadd80206cee...   \n",
       "...      ...                                                ...   \n",
       "12065      1  fffea4925ff656615c4e6b690cf1cce459237f36b64de3...   \n",
       "12066      0  fffea4925ff656615c4e6b690cf1cce459237f36b64de3...   \n",
       "12067      0  fffea4925ff656615c4e6b690cf1cce459237f36b64de3...   \n",
       "12068      0  fffea4925ff656615c4e6b690cf1cce459237f36b64de3...   \n",
       "12069      0  fffea4925ff656615c4e6b690cf1cce459237f36b64de3...   \n",
       "\n",
       "                                item_id cate_id   timestamp  \\\n",
       "0      a5e01c7b865e0ae92bd78ad6db1d1576   Other  1464943154   \n",
       "1      5a6a0ad75329c2721d7273cf8cbb7b63   Other  1464943154   \n",
       "2      d1b4365db02dd693661e0186dbfcc2e7   Other  1464943154   \n",
       "3      7b77553a80a31ccf5d0fe2a387748575   Other  1464943154   \n",
       "4      0f2fcf95319f5c1e5745371351f521e5   Other  1464943154   \n",
       "...                                 ...     ...         ...   \n",
       "12065  d37111749fe898b02f86688363a4598b   Other  1465397402   \n",
       "12066  0fc06555404935b0bc18407da4c143b5   Other  1465397402   \n",
       "12067  a5fc37404646ac3d34118489cdbfb341   Other  1465397402   \n",
       "12068  eb0389774fca117ee06c5c02a6ba76af   Other  1465397402   \n",
       "12069  0f2fcf95319f5c1e5745371351f521e5   Other  1465397402   \n",
       "\n",
       "                                           prev_item_ids  \\\n",
       "0                       b203435e0ca71f90508403e762d3a42f   \n",
       "1                       b203435e0ca71f90508403e762d3a42f   \n",
       "2                       b203435e0ca71f90508403e762d3a42f   \n",
       "3                       b203435e0ca71f90508403e762d3a42f   \n",
       "4                       b203435e0ca71f90508403e762d3a42f   \n",
       "...                                                  ...   \n",
       "12065  162decae9179e5b628166ffafca22ab1,c15ed4a6bcf39...   \n",
       "12066  162decae9179e5b628166ffafca22ab1,c15ed4a6bcf39...   \n",
       "12067  162decae9179e5b628166ffafca22ab1,c15ed4a6bcf39...   \n",
       "12068  162decae9179e5b628166ffafca22ab1,c15ed4a6bcf39...   \n",
       "12069  162decae9179e5b628166ffafca22ab1,c15ed4a6bcf39...   \n",
       "\n",
       "                             prev_cate_ids  \\\n",
       "0                                    Other   \n",
       "1                                    Other   \n",
       "2                                    Other   \n",
       "3                                    Other   \n",
       "4                                    Other   \n",
       "...                                    ...   \n",
       "12065  Other,Other,Other,Other,Other,Other   \n",
       "12066  Other,Other,Other,Other,Other,Other   \n",
       "12067  Other,Other,Other,Other,Other,Other   \n",
       "12068  Other,Other,Other,Other,Other,Other   \n",
       "12069  Other,Other,Other,Other,Other,Other   \n",
       "\n",
       "                                         prev_timestamps  \n",
       "0                                             1464850748  \n",
       "1                                             1464850748  \n",
       "2                                             1464850748  \n",
       "3                                             1464850748  \n",
       "4                                             1464850748  \n",
       "...                                                  ...  \n",
       "12065  1464807808,1464876998,1464983603,1464983618,14...  \n",
       "12066  1464807808,1464876998,1464983603,1464983618,14...  \n",
       "12067  1464807808,1464876998,1464983603,1464983618,14...  \n",
       "12068  1464807808,1464876998,1464983603,1464983618,14...  \n",
       "12069  1464807808,1464876998,1464983603,1464983618,14...  \n",
       "\n",
       "[12070 rows x 8 columns]"
      ]
     },
     "execution_count": 9,
     "metadata": {},
     "output_type": "execute_result"
    }
   ],
   "source": [
    "# Visualize validation dataset dataframe\n",
    "valid_df = pd.read_csv(valid_path, sep=\"\\t\", index_col=False, names=[\"label\", \"user_id\", \"item_id\", \"cate_id\", \"timestamp\", \"prev_item_ids\", \"prev_cate_ids\", \"prev_timestamps\"])\n",
    "valid_df"
   ]
  },
  {
   "cell_type": "code",
   "execution_count": 10,
   "id": "dependent-single",
   "metadata": {},
   "outputs": [
    {
     "data": {
      "text/html": [
       "<div>\n",
       "<style scoped>\n",
       "    .dataframe tbody tr th:only-of-type {\n",
       "        vertical-align: middle;\n",
       "    }\n",
       "\n",
       "    .dataframe tbody tr th {\n",
       "        vertical-align: top;\n",
       "    }\n",
       "\n",
       "    .dataframe thead th {\n",
       "        text-align: right;\n",
       "    }\n",
       "</style>\n",
       "<table border=\"1\" class=\"dataframe\">\n",
       "  <thead>\n",
       "    <tr style=\"text-align: right;\">\n",
       "      <th></th>\n",
       "      <th>label</th>\n",
       "      <th>user_id</th>\n",
       "      <th>item_id</th>\n",
       "      <th>cate_id</th>\n",
       "      <th>timestamp</th>\n",
       "      <th>prev_item_ids</th>\n",
       "      <th>prev_cate_ids</th>\n",
       "      <th>prev_timestamps</th>\n",
       "    </tr>\n",
       "  </thead>\n",
       "  <tbody>\n",
       "    <tr>\n",
       "      <th>0</th>\n",
       "      <td>1</td>\n",
       "      <td>0051becd5b9fed9a79ffa923e256e28f3eeadd80206cee...</td>\n",
       "      <td>bf0ddbcb5fcb316d0a2f6f3655b27b91</td>\n",
       "      <td>Other</td>\n",
       "      <td>1464943300</td>\n",
       "      <td>b203435e0ca71f90508403e762d3a42f,a5e01c7b865e0...</td>\n",
       "      <td>Other,Other</td>\n",
       "      <td>1464850748,1464943154</td>\n",
       "    </tr>\n",
       "    <tr>\n",
       "      <th>1</th>\n",
       "      <td>0</td>\n",
       "      <td>0051becd5b9fed9a79ffa923e256e28f3eeadd80206cee...</td>\n",
       "      <td>5a6a0ad75329c2721d7273cf8cbb7b63</td>\n",
       "      <td>Other</td>\n",
       "      <td>1464943300</td>\n",
       "      <td>b203435e0ca71f90508403e762d3a42f,a5e01c7b865e0...</td>\n",
       "      <td>Other,Other</td>\n",
       "      <td>1464850748,1464943154</td>\n",
       "    </tr>\n",
       "    <tr>\n",
       "      <th>2</th>\n",
       "      <td>0</td>\n",
       "      <td>0051becd5b9fed9a79ffa923e256e28f3eeadd80206cee...</td>\n",
       "      <td>de5795e6274c9538b6afe3d98112611d</td>\n",
       "      <td>Other</td>\n",
       "      <td>1464943300</td>\n",
       "      <td>b203435e0ca71f90508403e762d3a42f,a5e01c7b865e0...</td>\n",
       "      <td>Other,Other</td>\n",
       "      <td>1464850748,1464943154</td>\n",
       "    </tr>\n",
       "    <tr>\n",
       "      <th>3</th>\n",
       "      <td>0</td>\n",
       "      <td>0051becd5b9fed9a79ffa923e256e28f3eeadd80206cee...</td>\n",
       "      <td>e9d41bf5aeba0591ef080d3513375338</td>\n",
       "      <td>Other</td>\n",
       "      <td>1464943300</td>\n",
       "      <td>b203435e0ca71f90508403e762d3a42f,a5e01c7b865e0...</td>\n",
       "      <td>Other,Other</td>\n",
       "      <td>1464850748,1464943154</td>\n",
       "    </tr>\n",
       "    <tr>\n",
       "      <th>4</th>\n",
       "      <td>0</td>\n",
       "      <td>0051becd5b9fed9a79ffa923e256e28f3eeadd80206cee...</td>\n",
       "      <td>eb0389774fca117ee06c5c02a6ba76af</td>\n",
       "      <td>Other</td>\n",
       "      <td>1464943300</td>\n",
       "      <td>b203435e0ca71f90508403e762d3a42f,a5e01c7b865e0...</td>\n",
       "      <td>Other,Other</td>\n",
       "      <td>1464850748,1464943154</td>\n",
       "    </tr>\n",
       "    <tr>\n",
       "      <th>...</th>\n",
       "      <td>...</td>\n",
       "      <td>...</td>\n",
       "      <td>...</td>\n",
       "      <td>...</td>\n",
       "      <td>...</td>\n",
       "      <td>...</td>\n",
       "      <td>...</td>\n",
       "      <td>...</td>\n",
       "    </tr>\n",
       "    <tr>\n",
       "      <th>28125</th>\n",
       "      <td>0</td>\n",
       "      <td>fffea4925ff656615c4e6b690cf1cce459237f36b64de3...</td>\n",
       "      <td>0f2fcf95319f5c1e5745371351f521e5</td>\n",
       "      <td>Other</td>\n",
       "      <td>1465626127</td>\n",
       "      <td>162decae9179e5b628166ffafca22ab1,c15ed4a6bcf39...</td>\n",
       "      <td>Other,Other,Other,Other,Other,Other,Other</td>\n",
       "      <td>1464807808,1464876998,1464983603,1464983618,14...</td>\n",
       "    </tr>\n",
       "    <tr>\n",
       "      <th>28126</th>\n",
       "      <td>0</td>\n",
       "      <td>fffea4925ff656615c4e6b690cf1cce459237f36b64de3...</td>\n",
       "      <td>04ab0460f36b12d22fd4321eaa9b39cb</td>\n",
       "      <td>Other</td>\n",
       "      <td>1465626127</td>\n",
       "      <td>162decae9179e5b628166ffafca22ab1,c15ed4a6bcf39...</td>\n",
       "      <td>Other,Other,Other,Other,Other,Other,Other</td>\n",
       "      <td>1464807808,1464876998,1464983603,1464983618,14...</td>\n",
       "    </tr>\n",
       "    <tr>\n",
       "      <th>28127</th>\n",
       "      <td>0</td>\n",
       "      <td>fffea4925ff656615c4e6b690cf1cce459237f36b64de3...</td>\n",
       "      <td>162decae9179e5b628166ffafca22ab1</td>\n",
       "      <td>Other</td>\n",
       "      <td>1465626127</td>\n",
       "      <td>162decae9179e5b628166ffafca22ab1,c15ed4a6bcf39...</td>\n",
       "      <td>Other,Other,Other,Other,Other,Other,Other</td>\n",
       "      <td>1464807808,1464876998,1464983603,1464983618,14...</td>\n",
       "    </tr>\n",
       "    <tr>\n",
       "      <th>28128</th>\n",
       "      <td>0</td>\n",
       "      <td>fffea4925ff656615c4e6b690cf1cce459237f36b64de3...</td>\n",
       "      <td>2a21cb8865da59cc4845d822c6923ada</td>\n",
       "      <td>Other</td>\n",
       "      <td>1465626127</td>\n",
       "      <td>162decae9179e5b628166ffafca22ab1,c15ed4a6bcf39...</td>\n",
       "      <td>Other,Other,Other,Other,Other,Other,Other</td>\n",
       "      <td>1464807808,1464876998,1464983603,1464983618,14...</td>\n",
       "    </tr>\n",
       "    <tr>\n",
       "      <th>28129</th>\n",
       "      <td>0</td>\n",
       "      <td>fffea4925ff656615c4e6b690cf1cce459237f36b64de3...</td>\n",
       "      <td>963e3a1ebd5a491f9493184403c5f4d5</td>\n",
       "      <td>Other</td>\n",
       "      <td>1465626127</td>\n",
       "      <td>162decae9179e5b628166ffafca22ab1,c15ed4a6bcf39...</td>\n",
       "      <td>Other,Other,Other,Other,Other,Other,Other</td>\n",
       "      <td>1464807808,1464876998,1464983603,1464983618,14...</td>\n",
       "    </tr>\n",
       "  </tbody>\n",
       "</table>\n",
       "<p>28130 rows × 8 columns</p>\n",
       "</div>"
      ],
      "text/plain": [
       "       label                                            user_id  \\\n",
       "0          1  0051becd5b9fed9a79ffa923e256e28f3eeadd80206cee...   \n",
       "1          0  0051becd5b9fed9a79ffa923e256e28f3eeadd80206cee...   \n",
       "2          0  0051becd5b9fed9a79ffa923e256e28f3eeadd80206cee...   \n",
       "3          0  0051becd5b9fed9a79ffa923e256e28f3eeadd80206cee...   \n",
       "4          0  0051becd5b9fed9a79ffa923e256e28f3eeadd80206cee...   \n",
       "...      ...                                                ...   \n",
       "28125      0  fffea4925ff656615c4e6b690cf1cce459237f36b64de3...   \n",
       "28126      0  fffea4925ff656615c4e6b690cf1cce459237f36b64de3...   \n",
       "28127      0  fffea4925ff656615c4e6b690cf1cce459237f36b64de3...   \n",
       "28128      0  fffea4925ff656615c4e6b690cf1cce459237f36b64de3...   \n",
       "28129      0  fffea4925ff656615c4e6b690cf1cce459237f36b64de3...   \n",
       "\n",
       "                                item_id cate_id   timestamp  \\\n",
       "0      bf0ddbcb5fcb316d0a2f6f3655b27b91   Other  1464943300   \n",
       "1      5a6a0ad75329c2721d7273cf8cbb7b63   Other  1464943300   \n",
       "2      de5795e6274c9538b6afe3d98112611d   Other  1464943300   \n",
       "3      e9d41bf5aeba0591ef080d3513375338   Other  1464943300   \n",
       "4      eb0389774fca117ee06c5c02a6ba76af   Other  1464943300   \n",
       "...                                 ...     ...         ...   \n",
       "28125  0f2fcf95319f5c1e5745371351f521e5   Other  1465626127   \n",
       "28126  04ab0460f36b12d22fd4321eaa9b39cb   Other  1465626127   \n",
       "28127  162decae9179e5b628166ffafca22ab1   Other  1465626127   \n",
       "28128  2a21cb8865da59cc4845d822c6923ada   Other  1465626127   \n",
       "28129  963e3a1ebd5a491f9493184403c5f4d5   Other  1465626127   \n",
       "\n",
       "                                           prev_item_ids  \\\n",
       "0      b203435e0ca71f90508403e762d3a42f,a5e01c7b865e0...   \n",
       "1      b203435e0ca71f90508403e762d3a42f,a5e01c7b865e0...   \n",
       "2      b203435e0ca71f90508403e762d3a42f,a5e01c7b865e0...   \n",
       "3      b203435e0ca71f90508403e762d3a42f,a5e01c7b865e0...   \n",
       "4      b203435e0ca71f90508403e762d3a42f,a5e01c7b865e0...   \n",
       "...                                                  ...   \n",
       "28125  162decae9179e5b628166ffafca22ab1,c15ed4a6bcf39...   \n",
       "28126  162decae9179e5b628166ffafca22ab1,c15ed4a6bcf39...   \n",
       "28127  162decae9179e5b628166ffafca22ab1,c15ed4a6bcf39...   \n",
       "28128  162decae9179e5b628166ffafca22ab1,c15ed4a6bcf39...   \n",
       "28129  162decae9179e5b628166ffafca22ab1,c15ed4a6bcf39...   \n",
       "\n",
       "                                   prev_cate_ids  \\\n",
       "0                                    Other,Other   \n",
       "1                                    Other,Other   \n",
       "2                                    Other,Other   \n",
       "3                                    Other,Other   \n",
       "4                                    Other,Other   \n",
       "...                                          ...   \n",
       "28125  Other,Other,Other,Other,Other,Other,Other   \n",
       "28126  Other,Other,Other,Other,Other,Other,Other   \n",
       "28127  Other,Other,Other,Other,Other,Other,Other   \n",
       "28128  Other,Other,Other,Other,Other,Other,Other   \n",
       "28129  Other,Other,Other,Other,Other,Other,Other   \n",
       "\n",
       "                                         prev_timestamps  \n",
       "0                                  1464850748,1464943154  \n",
       "1                                  1464850748,1464943154  \n",
       "2                                  1464850748,1464943154  \n",
       "3                                  1464850748,1464943154  \n",
       "4                                  1464850748,1464943154  \n",
       "...                                                  ...  \n",
       "28125  1464807808,1464876998,1464983603,1464983618,14...  \n",
       "28126  1464807808,1464876998,1464983603,1464983618,14...  \n",
       "28127  1464807808,1464876998,1464983603,1464983618,14...  \n",
       "28128  1464807808,1464876998,1464983603,1464983618,14...  \n",
       "28129  1464807808,1464876998,1464983603,1464983618,14...  \n",
       "\n",
       "[28130 rows x 8 columns]"
      ]
     },
     "execution_count": 10,
     "metadata": {},
     "output_type": "execute_result"
    }
   ],
   "source": [
    "# Visualize test dataset dataframe\n",
    "test_df = pd.read_csv(test_path, sep=\"\\t\", index_col=False, names=[\"label\", \"user_id\", \"item_id\", \"cate_id\", \"timestamp\", \"prev_item_ids\", \"prev_cate_ids\", \"prev_timestamps\"])\n",
    "test_df"
   ]
  },
  {
   "cell_type": "markdown",
   "id": "varied-pixel",
   "metadata": {},
   "source": [
    "When training and evaluating neural network models, we typically feed batches of input into the model to generate predictions. This involves iterively sampling batches of data in the dataset . The [microsoft recommenders](https://github.com/microsoft/recommenders) package provides the `SequentialIterator` class which acts as a dataloader for recommender systems. "
   ]
  },
  {
   "cell_type": "code",
   "execution_count": 11,
   "id": "periodic-newspaper",
   "metadata": {},
   "outputs": [],
   "source": [
    "input_creator = SequentialIterator"
   ]
  },
  {
   "cell_type": "markdown",
   "id": "defensive-birthday",
   "metadata": {},
   "source": [
    "Following the definition of the Sequential Dataset, we need to generate the user, item and category files using the `utils.create_vocab` function. These files contain the unique ids of each user, item and category in the dataset, respectively. This is leveraged by the model to generate embedding tables of the proper dimension. "
   ]
  },
  {
   "cell_type": "code",
   "execution_count": 12,
   "id": "micro-spain",
   "metadata": {},
   "outputs": [],
   "source": [
    "create_vocab(train_path, user_vocab_path, item_vocab_path, cate_vocab_path)"
   ]
  },
  {
   "cell_type": "markdown",
   "id": "suited-metropolitan",
   "metadata": {},
   "source": [
    "## Model Definition\n",
    "\n",
    "With the sequential dataset in place, we can turn our attention to defining the A2SVDModel model. The [microsoft recommenders](https://github.com/microsoft/recommenders) package provides a variety of recommender methods including A2SVDModel. It provides a uniform interface for both sequential and non-sequential recommender system methods. \n",
    "\n",
    "The first step to defining a model is generating the hyperameters `hparams` using the `recommenders.models.deeprec.deeprec_utils.prepare_hparams` function. This function takes a varitey of arguments including model, log save paths and vocabulary file paths along with hyperparameters such as batch size and epochs. The majority of hyperparameters are started in a yaml path at `YAML_PATH`. The microsoft recommenders package provides a [yaml file](https://github.com/microsoft/recommenders/tree/main/recommenders/models/deeprec/config) with default hyperparameters for each of the sequential architectures it supports. \n",
    "\n",
    "Some of the notable hyperparameters include: \n",
    "- **batch_size**:  The number of samples per batch\n",
    "- **epochs**: The number of times to iterate through the training set\n",
    "- **embed_l2**: The weight of the l2 regularization loss on embeddings\n",
    "- **layer_l2**: The weight of the l2 regularization loss on layer weights\n",
    "- **train_num_ngs**: The number of negative instances to include per postive instance in training set \n",
    "- **learning_rate**: Determines the step size of updates to model parameters"
   ]
  },
  {
   "cell_type": "code",
   "execution_count": 51,
   "id": "powered-anatomy",
   "metadata": {},
   "outputs": [],
   "source": [
    "hparams = prepare_hparams(YAML_PATH, \n",
    "                          embed_l2=0., \n",
    "                          layer_l2=0., \n",
    "                          learning_rate=0.001,  # set to 0.01 if batch normalization is disable\n",
    "                          epochs=EPOCHS,\n",
    "                          batch_size=BATCH_SIZE,\n",
    "                          metrics=['auc'] ,\n",
    "                          pairwise_metrics=['ndcg@1;3;5','hit@1;3;5', \"group_auc\"],\n",
    "                          show_step=20,\n",
    "                          MODEL_DIR=os.path.join(MODEL_PATH),\n",
    "                          SUMMARIES_DIR=os.path.join(LOG_PATH),\n",
    "                          user_vocab=user_vocab_path,\n",
    "                          item_vocab=item_vocab_path,\n",
    "                          cate_vocab=cate_vocab_path,\n",
    "                          need_sample=True,\n",
    "                          train_num_ngs=train_num_ngs, # provides the number of negative instances for each positive instance for loss computation.\n",
    "            )"
   ]
  },
  {
   "cell_type": "markdown",
   "id": "wrong-proxy",
   "metadata": {},
   "source": [
    "To define the model, we pass the hyperparameters, sequential dataset and seed to the `models.A2SVDModel_Custom` constructor. The `models.SLI_RECModel_Custom` class is a simple extension of the `recommenders.models.deeprec.models.sequential.asvd.A2SVDModel` that overrides the `fit` method to more easily access train and evaluation metrics accross epochs. This is done as a convenience and is by no means required by package. "
   ]
  },
  {
   "cell_type": "code",
   "execution_count": 52,
   "id": "relative-spank",
   "metadata": {},
   "outputs": [],
   "source": [
    "model = SeqModel(hparams, input_creator, seed=RANDOM_SEED)"
   ]
  },
  {
   "cell_type": "markdown",
   "id": "loved-platform",
   "metadata": {},
   "source": [
    "## Training and Validation\n",
    "\n",
    "The next step is to train and validated the model we defined using the training and validation set we previously generated using the `model.fit` method. This method trains and validates the model for a number of epochs and returns the updated model along with the train and validation results. "
   ]
  },
  {
   "cell_type": "code",
   "execution_count": 53,
   "id": "moving-spoke",
   "metadata": {
    "scrolled": true
   },
   "outputs": [
    {
     "name": "stdout",
     "output_type": "stream",
     "text": [
      "step 20 , total_loss: 1.2841, data_loss: 1.2841\n",
      "step 40 , total_loss: 1.0878, data_loss: 1.0878\n",
      "step 60 , total_loss: 1.0894, data_loss: 1.0894\n",
      "eval valid at epoch 1: auc:0.5253,ndcg@1:0.1773,ndcg@3:0.458,ndcg@5:0.5911,hit@1:0.1773,hit@3:0.6806,hit@5:1.0,group_auc:0.539\n",
      "INFO:tensorflow:models/1675335536.3683693epoch_10.meta\n"
     ]
    },
    {
     "name": "stderr",
     "output_type": "stream",
     "text": [
      "INFO:tensorflow:models/1675335536.3683693epoch_10.meta\n"
     ]
    },
    {
     "name": "stdout",
     "output_type": "stream",
     "text": [
      "INFO:tensorflow:500\n"
     ]
    },
    {
     "name": "stderr",
     "output_type": "stream",
     "text": [
      "INFO:tensorflow:500\n"
     ]
    },
    {
     "name": "stdout",
     "output_type": "stream",
     "text": [
      "INFO:tensorflow:models/1675335536.3683693epoch_1.data-00000-of-00001\n"
     ]
    },
    {
     "name": "stderr",
     "output_type": "stream",
     "text": [
      "INFO:tensorflow:models/1675335536.3683693epoch_1.data-00000-of-00001\n"
     ]
    },
    {
     "name": "stdout",
     "output_type": "stream",
     "text": [
      "INFO:tensorflow:800\n"
     ]
    },
    {
     "name": "stderr",
     "output_type": "stream",
     "text": [
      "INFO:tensorflow:800\n"
     ]
    },
    {
     "name": "stdout",
     "output_type": "stream",
     "text": [
      "INFO:tensorflow:models/1675335536.3683693epoch_1.meta\n"
     ]
    },
    {
     "name": "stderr",
     "output_type": "stream",
     "text": [
      "INFO:tensorflow:models/1675335536.3683693epoch_1.meta\n"
     ]
    },
    {
     "name": "stdout",
     "output_type": "stream",
     "text": [
      "INFO:tensorflow:1300\n"
     ]
    },
    {
     "name": "stderr",
     "output_type": "stream",
     "text": [
      "INFO:tensorflow:1300\n"
     ]
    },
    {
     "name": "stdout",
     "output_type": "stream",
     "text": [
      "INFO:tensorflow:models/1675335536.3683693epoch_1.index\n"
     ]
    },
    {
     "name": "stderr",
     "output_type": "stream",
     "text": [
      "INFO:tensorflow:models/1675335536.3683693epoch_1.index\n"
     ]
    },
    {
     "name": "stdout",
     "output_type": "stream",
     "text": [
      "INFO:tensorflow:1300\n"
     ]
    },
    {
     "name": "stderr",
     "output_type": "stream",
     "text": [
      "INFO:tensorflow:1300\n"
     ]
    },
    {
     "name": "stdout",
     "output_type": "stream",
     "text": [
      "INFO:tensorflow:models/1675335536.3683693epoch_10.index\n"
     ]
    },
    {
     "name": "stderr",
     "output_type": "stream",
     "text": [
      "INFO:tensorflow:models/1675335536.3683693epoch_10.index\n"
     ]
    },
    {
     "name": "stdout",
     "output_type": "stream",
     "text": [
      "INFO:tensorflow:1300\n"
     ]
    },
    {
     "name": "stderr",
     "output_type": "stream",
     "text": [
      "INFO:tensorflow:1300\n"
     ]
    },
    {
     "name": "stdout",
     "output_type": "stream",
     "text": [
      "INFO:tensorflow:models/1675335536.3683693epoch_10.data-00000-of-00001\n"
     ]
    },
    {
     "name": "stderr",
     "output_type": "stream",
     "text": [
      "INFO:tensorflow:models/1675335536.3683693epoch_10.data-00000-of-00001\n"
     ]
    },
    {
     "name": "stdout",
     "output_type": "stream",
     "text": [
      "INFO:tensorflow:1600\n"
     ]
    },
    {
     "name": "stderr",
     "output_type": "stream",
     "text": [
      "INFO:tensorflow:1600\n"
     ]
    },
    {
     "name": "stdout",
     "output_type": "stream",
     "text": [
      "INFO:tensorflow:models/1675335536.3683693/best_model.meta\n"
     ]
    },
    {
     "name": "stderr",
     "output_type": "stream",
     "text": [
      "INFO:tensorflow:models/1675335536.3683693/best_model.meta\n"
     ]
    },
    {
     "name": "stdout",
     "output_type": "stream",
     "text": [
      "INFO:tensorflow:500\n"
     ]
    },
    {
     "name": "stderr",
     "output_type": "stream",
     "text": [
      "INFO:tensorflow:500\n"
     ]
    },
    {
     "name": "stdout",
     "output_type": "stream",
     "text": [
      "INFO:tensorflow:models/1675335536.3683693/best_model.index\n"
     ]
    },
    {
     "name": "stderr",
     "output_type": "stream",
     "text": [
      "INFO:tensorflow:models/1675335536.3683693/best_model.index\n"
     ]
    },
    {
     "name": "stdout",
     "output_type": "stream",
     "text": [
      "INFO:tensorflow:500\n"
     ]
    },
    {
     "name": "stderr",
     "output_type": "stream",
     "text": [
      "INFO:tensorflow:500\n"
     ]
    },
    {
     "name": "stdout",
     "output_type": "stream",
     "text": [
      "INFO:tensorflow:models/1675335536.3683693/best_model.data-00000-of-00001\n"
     ]
    },
    {
     "name": "stderr",
     "output_type": "stream",
     "text": [
      "INFO:tensorflow:models/1675335536.3683693/best_model.data-00000-of-00001\n"
     ]
    },
    {
     "name": "stdout",
     "output_type": "stream",
     "text": [
      "INFO:tensorflow:800\n"
     ]
    },
    {
     "name": "stderr",
     "output_type": "stream",
     "text": [
      "INFO:tensorflow:800\n"
     ]
    },
    {
     "name": "stdout",
     "output_type": "stream",
     "text": [
      "step 20 , total_loss: 0.9857, data_loss: 0.9857\n",
      "step 40 , total_loss: 0.8669, data_loss: 0.8669\n",
      "step 60 , total_loss: 0.9170, data_loss: 0.9170\n",
      "eval valid at epoch 2: auc:0.71,ndcg@1:0.3592,ndcg@3:0.6371,ndcg@5:0.7025,hit@1:0.3592,hit@3:0.8438,hit@5:1.0,group_auc:0.698\n",
      "INFO:tensorflow:models/1675335536.3683693epoch_2.data-00000-of-00001\n"
     ]
    },
    {
     "name": "stderr",
     "output_type": "stream",
     "text": [
      "INFO:tensorflow:models/1675335536.3683693epoch_2.data-00000-of-00001\n"
     ]
    },
    {
     "name": "stdout",
     "output_type": "stream",
     "text": [
      "INFO:tensorflow:300\n"
     ]
    },
    {
     "name": "stderr",
     "output_type": "stream",
     "text": [
      "INFO:tensorflow:300\n"
     ]
    },
    {
     "name": "stdout",
     "output_type": "stream",
     "text": [
      "INFO:tensorflow:models/1675335536.3683693epoch_2.index\n"
     ]
    },
    {
     "name": "stderr",
     "output_type": "stream",
     "text": [
      "INFO:tensorflow:models/1675335536.3683693epoch_2.index\n"
     ]
    },
    {
     "name": "stdout",
     "output_type": "stream",
     "text": [
      "INFO:tensorflow:300\n"
     ]
    },
    {
     "name": "stderr",
     "output_type": "stream",
     "text": [
      "INFO:tensorflow:300\n"
     ]
    },
    {
     "name": "stdout",
     "output_type": "stream",
     "text": [
      "INFO:tensorflow:models/1675335536.3683693epoch_2.meta\n"
     ]
    },
    {
     "name": "stderr",
     "output_type": "stream",
     "text": [
      "INFO:tensorflow:models/1675335536.3683693epoch_2.meta\n"
     ]
    },
    {
     "name": "stdout",
     "output_type": "stream",
     "text": [
      "INFO:tensorflow:800\n"
     ]
    },
    {
     "name": "stderr",
     "output_type": "stream",
     "text": [
      "INFO:tensorflow:800\n"
     ]
    },
    {
     "name": "stdout",
     "output_type": "stream",
     "text": [
      "INFO:tensorflow:models/1675335536.3683693/best_model.meta\n"
     ]
    },
    {
     "name": "stderr",
     "output_type": "stream",
     "text": [
      "INFO:tensorflow:models/1675335536.3683693/best_model.meta\n"
     ]
    },
    {
     "name": "stdout",
     "output_type": "stream",
     "text": [
      "INFO:tensorflow:500\n"
     ]
    },
    {
     "name": "stderr",
     "output_type": "stream",
     "text": [
      "INFO:tensorflow:500\n"
     ]
    },
    {
     "name": "stdout",
     "output_type": "stream",
     "text": [
      "INFO:tensorflow:models/1675335536.3683693/best_model.index\n"
     ]
    },
    {
     "name": "stderr",
     "output_type": "stream",
     "text": [
      "INFO:tensorflow:models/1675335536.3683693/best_model.index\n"
     ]
    },
    {
     "name": "stdout",
     "output_type": "stream",
     "text": [
      "INFO:tensorflow:500\n"
     ]
    },
    {
     "name": "stderr",
     "output_type": "stream",
     "text": [
      "INFO:tensorflow:500\n"
     ]
    },
    {
     "name": "stdout",
     "output_type": "stream",
     "text": [
      "INFO:tensorflow:models/1675335536.3683693/best_model.data-00000-of-00001\n"
     ]
    },
    {
     "name": "stderr",
     "output_type": "stream",
     "text": [
      "INFO:tensorflow:models/1675335536.3683693/best_model.data-00000-of-00001\n"
     ]
    },
    {
     "name": "stdout",
     "output_type": "stream",
     "text": [
      "INFO:tensorflow:800\n"
     ]
    },
    {
     "name": "stderr",
     "output_type": "stream",
     "text": [
      "INFO:tensorflow:800\n"
     ]
    },
    {
     "name": "stdout",
     "output_type": "stream",
     "text": [
      "step 20 , total_loss: 0.6259, data_loss: 0.6259\n",
      "step 40 , total_loss: 0.5580, data_loss: 0.5580\n",
      "step 60 , total_loss: 0.5042, data_loss: 0.5042\n",
      "eval valid at epoch 3: auc:0.9329,ndcg@1:0.8161,ndcg@3:0.9245,ndcg@5:0.927,hit@1:0.8161,hit@3:0.9938,hit@5:1.0,group_auc:0.9435\n",
      "INFO:tensorflow:models/1675335536.3683693epoch_3.index\n"
     ]
    },
    {
     "name": "stderr",
     "output_type": "stream",
     "text": [
      "INFO:tensorflow:models/1675335536.3683693epoch_3.index\n"
     ]
    },
    {
     "name": "stdout",
     "output_type": "stream",
     "text": [
      "INFO:tensorflow:0\n"
     ]
    },
    {
     "name": "stderr",
     "output_type": "stream",
     "text": [
      "INFO:tensorflow:0\n"
     ]
    },
    {
     "name": "stdout",
     "output_type": "stream",
     "text": [
      "INFO:tensorflow:models/1675335536.3683693epoch_3.meta\n"
     ]
    },
    {
     "name": "stderr",
     "output_type": "stream",
     "text": [
      "INFO:tensorflow:models/1675335536.3683693epoch_3.meta\n"
     ]
    },
    {
     "name": "stdout",
     "output_type": "stream",
     "text": [
      "INFO:tensorflow:500\n"
     ]
    },
    {
     "name": "stderr",
     "output_type": "stream",
     "text": [
      "INFO:tensorflow:500\n"
     ]
    },
    {
     "name": "stdout",
     "output_type": "stream",
     "text": [
      "INFO:tensorflow:models/1675335536.3683693epoch_3.data-00000-of-00001\n"
     ]
    },
    {
     "name": "stderr",
     "output_type": "stream",
     "text": [
      "INFO:tensorflow:models/1675335536.3683693epoch_3.data-00000-of-00001\n"
     ]
    },
    {
     "name": "stdout",
     "output_type": "stream",
     "text": [
      "INFO:tensorflow:800\n"
     ]
    },
    {
     "name": "stderr",
     "output_type": "stream",
     "text": [
      "INFO:tensorflow:800\n"
     ]
    },
    {
     "name": "stdout",
     "output_type": "stream",
     "text": [
      "INFO:tensorflow:models/1675335536.3683693/best_model.meta\n"
     ]
    },
    {
     "name": "stderr",
     "output_type": "stream",
     "text": [
      "INFO:tensorflow:models/1675335536.3683693/best_model.meta\n"
     ]
    },
    {
     "name": "stdout",
     "output_type": "stream",
     "text": [
      "INFO:tensorflow:500\n"
     ]
    },
    {
     "name": "stderr",
     "output_type": "stream",
     "text": [
      "INFO:tensorflow:500\n"
     ]
    },
    {
     "name": "stdout",
     "output_type": "stream",
     "text": [
      "INFO:tensorflow:models/1675335536.3683693/best_model.index\n"
     ]
    },
    {
     "name": "stderr",
     "output_type": "stream",
     "text": [
      "INFO:tensorflow:models/1675335536.3683693/best_model.index\n"
     ]
    },
    {
     "name": "stdout",
     "output_type": "stream",
     "text": [
      "INFO:tensorflow:500\n"
     ]
    },
    {
     "name": "stderr",
     "output_type": "stream",
     "text": [
      "INFO:tensorflow:500\n"
     ]
    },
    {
     "name": "stdout",
     "output_type": "stream",
     "text": [
      "INFO:tensorflow:models/1675335536.3683693/best_model.data-00000-of-00001\n"
     ]
    },
    {
     "name": "stderr",
     "output_type": "stream",
     "text": [
      "INFO:tensorflow:models/1675335536.3683693/best_model.data-00000-of-00001\n"
     ]
    },
    {
     "name": "stdout",
     "output_type": "stream",
     "text": [
      "INFO:tensorflow:800\n"
     ]
    },
    {
     "name": "stderr",
     "output_type": "stream",
     "text": [
      "INFO:tensorflow:800\n"
     ]
    },
    {
     "name": "stdout",
     "output_type": "stream",
     "text": [
      "step 20 , total_loss: 0.4517, data_loss: 0.4517\n",
      "step 40 , total_loss: 0.3992, data_loss: 0.3992\n",
      "step 60 , total_loss: 0.3263, data_loss: 0.3263\n",
      "eval valid at epoch 4: auc:0.9521,ndcg@1:0.8364,ndcg@3:0.9328,ndcg@5:0.9351,hit@1:0.8364,hit@3:0.9946,hit@5:1.0,group_auc:0.95\n",
      "INFO:tensorflow:models/1675335536.3683693epoch_4.meta\n"
     ]
    },
    {
     "name": "stderr",
     "output_type": "stream",
     "text": [
      "INFO:tensorflow:models/1675335536.3683693epoch_4.meta\n"
     ]
    },
    {
     "name": "stdout",
     "output_type": "stream",
     "text": [
      "INFO:tensorflow:500\n"
     ]
    },
    {
     "name": "stderr",
     "output_type": "stream",
     "text": [
      "INFO:tensorflow:500\n"
     ]
    },
    {
     "name": "stdout",
     "output_type": "stream",
     "text": [
      "INFO:tensorflow:models/1675335536.3683693epoch_4.index\n"
     ]
    },
    {
     "name": "stderr",
     "output_type": "stream",
     "text": [
      "INFO:tensorflow:models/1675335536.3683693epoch_4.index\n"
     ]
    },
    {
     "name": "stdout",
     "output_type": "stream",
     "text": [
      "INFO:tensorflow:500\n"
     ]
    },
    {
     "name": "stderr",
     "output_type": "stream",
     "text": [
      "INFO:tensorflow:500\n"
     ]
    },
    {
     "name": "stdout",
     "output_type": "stream",
     "text": [
      "INFO:tensorflow:models/1675335536.3683693epoch_4.data-00000-of-00001\n"
     ]
    },
    {
     "name": "stderr",
     "output_type": "stream",
     "text": [
      "INFO:tensorflow:models/1675335536.3683693epoch_4.data-00000-of-00001\n"
     ]
    },
    {
     "name": "stdout",
     "output_type": "stream",
     "text": [
      "INFO:tensorflow:800\n"
     ]
    },
    {
     "name": "stderr",
     "output_type": "stream",
     "text": [
      "INFO:tensorflow:800\n"
     ]
    },
    {
     "name": "stdout",
     "output_type": "stream",
     "text": [
      "INFO:tensorflow:models/1675335536.3683693/best_model.meta\n"
     ]
    },
    {
     "name": "stderr",
     "output_type": "stream",
     "text": [
      "INFO:tensorflow:models/1675335536.3683693/best_model.meta\n"
     ]
    },
    {
     "name": "stdout",
     "output_type": "stream",
     "text": [
      "INFO:tensorflow:500\n"
     ]
    },
    {
     "name": "stderr",
     "output_type": "stream",
     "text": [
      "INFO:tensorflow:500\n"
     ]
    },
    {
     "name": "stdout",
     "output_type": "stream",
     "text": [
      "INFO:tensorflow:models/1675335536.3683693/best_model.index\n"
     ]
    },
    {
     "name": "stderr",
     "output_type": "stream",
     "text": [
      "INFO:tensorflow:models/1675335536.3683693/best_model.index\n"
     ]
    },
    {
     "name": "stdout",
     "output_type": "stream",
     "text": [
      "INFO:tensorflow:500\n"
     ]
    },
    {
     "name": "stderr",
     "output_type": "stream",
     "text": [
      "INFO:tensorflow:500\n"
     ]
    },
    {
     "name": "stdout",
     "output_type": "stream",
     "text": [
      "INFO:tensorflow:models/1675335536.3683693/best_model.data-00000-of-00001\n"
     ]
    },
    {
     "name": "stderr",
     "output_type": "stream",
     "text": [
      "INFO:tensorflow:models/1675335536.3683693/best_model.data-00000-of-00001\n"
     ]
    },
    {
     "name": "stdout",
     "output_type": "stream",
     "text": [
      "INFO:tensorflow:800\n"
     ]
    },
    {
     "name": "stderr",
     "output_type": "stream",
     "text": [
      "INFO:tensorflow:800\n"
     ]
    },
    {
     "name": "stdout",
     "output_type": "stream",
     "text": [
      "step 20 , total_loss: 0.3915, data_loss: 0.3915\n",
      "step 40 , total_loss: 0.3496, data_loss: 0.3496\n",
      "step 60 , total_loss: 0.3737, data_loss: 0.3737\n",
      "eval valid at epoch 5: auc:0.9545,ndcg@1:0.8509,ndcg@3:0.9372,ndcg@5:0.9401,hit@1:0.8509,hit@3:0.993,hit@5:1.0,group_auc:0.9528\n",
      "INFO:tensorflow:models/1675335536.3683693epoch_5.data-00000-of-00001\n"
     ]
    },
    {
     "name": "stderr",
     "output_type": "stream",
     "text": [
      "INFO:tensorflow:models/1675335536.3683693epoch_5.data-00000-of-00001\n"
     ]
    },
    {
     "name": "stdout",
     "output_type": "stream",
     "text": [
      "INFO:tensorflow:300\n"
     ]
    },
    {
     "name": "stderr",
     "output_type": "stream",
     "text": [
      "INFO:tensorflow:300\n"
     ]
    },
    {
     "name": "stdout",
     "output_type": "stream",
     "text": [
      "INFO:tensorflow:models/1675335536.3683693epoch_5.index\n"
     ]
    },
    {
     "name": "stderr",
     "output_type": "stream",
     "text": [
      "INFO:tensorflow:models/1675335536.3683693epoch_5.index\n"
     ]
    },
    {
     "name": "stdout",
     "output_type": "stream",
     "text": [
      "INFO:tensorflow:300\n"
     ]
    },
    {
     "name": "stderr",
     "output_type": "stream",
     "text": [
      "INFO:tensorflow:300\n"
     ]
    },
    {
     "name": "stdout",
     "output_type": "stream",
     "text": [
      "INFO:tensorflow:models/1675335536.3683693epoch_5.meta\n"
     ]
    },
    {
     "name": "stderr",
     "output_type": "stream",
     "text": [
      "INFO:tensorflow:models/1675335536.3683693epoch_5.meta\n"
     ]
    },
    {
     "name": "stdout",
     "output_type": "stream",
     "text": [
      "INFO:tensorflow:800\n"
     ]
    },
    {
     "name": "stderr",
     "output_type": "stream",
     "text": [
      "INFO:tensorflow:800\n"
     ]
    },
    {
     "name": "stdout",
     "output_type": "stream",
     "text": [
      "INFO:tensorflow:models/1675335536.3683693/best_model.meta\n"
     ]
    },
    {
     "name": "stderr",
     "output_type": "stream",
     "text": [
      "INFO:tensorflow:models/1675335536.3683693/best_model.meta\n"
     ]
    },
    {
     "name": "stdout",
     "output_type": "stream",
     "text": [
      "INFO:tensorflow:500\n"
     ]
    },
    {
     "name": "stderr",
     "output_type": "stream",
     "text": [
      "INFO:tensorflow:500\n"
     ]
    },
    {
     "name": "stdout",
     "output_type": "stream",
     "text": [
      "INFO:tensorflow:models/1675335536.3683693/best_model.index\n"
     ]
    },
    {
     "name": "stderr",
     "output_type": "stream",
     "text": [
      "INFO:tensorflow:models/1675335536.3683693/best_model.index\n"
     ]
    },
    {
     "name": "stdout",
     "output_type": "stream",
     "text": [
      "INFO:tensorflow:500\n"
     ]
    },
    {
     "name": "stderr",
     "output_type": "stream",
     "text": [
      "INFO:tensorflow:500\n"
     ]
    },
    {
     "name": "stdout",
     "output_type": "stream",
     "text": [
      "INFO:tensorflow:models/1675335536.3683693/best_model.data-00000-of-00001\n"
     ]
    },
    {
     "name": "stderr",
     "output_type": "stream",
     "text": [
      "INFO:tensorflow:models/1675335536.3683693/best_model.data-00000-of-00001\n"
     ]
    },
    {
     "name": "stdout",
     "output_type": "stream",
     "text": [
      "INFO:tensorflow:800\n"
     ]
    },
    {
     "name": "stderr",
     "output_type": "stream",
     "text": [
      "INFO:tensorflow:800\n"
     ]
    },
    {
     "name": "stdout",
     "output_type": "stream",
     "text": [
      "step 20 , total_loss: 0.3575, data_loss: 0.3575\n",
      "step 40 , total_loss: 0.3058, data_loss: 0.3058\n",
      "step 60 , total_loss: 0.3623, data_loss: 0.3623\n",
      "eval valid at epoch 6: auc:0.9539,ndcg@1:0.8434,ndcg@3:0.9352,ndcg@5:0.9381,hit@1:0.8434,hit@3:0.993,hit@5:1.0,group_auc:0.9522\n",
      "step 20 , total_loss: 0.3406, data_loss: 0.3406\n",
      "step 40 , total_loss: 0.3750, data_loss: 0.3750\n",
      "step 60 , total_loss: 0.3831, data_loss: 0.3831\n",
      "eval valid at epoch 7: auc:0.9615,ndcg@1:0.8492,ndcg@3:0.9391,ndcg@5:0.9406,hit@1:0.8492,hit@3:0.9963,hit@5:1.0,group_auc:0.9547\n",
      "INFO:tensorflow:models/1675335536.3683693epoch_7.index\n"
     ]
    },
    {
     "name": "stderr",
     "output_type": "stream",
     "text": [
      "INFO:tensorflow:models/1675335536.3683693epoch_7.index\n"
     ]
    },
    {
     "name": "stdout",
     "output_type": "stream",
     "text": [
      "INFO:tensorflow:0\n"
     ]
    },
    {
     "name": "stderr",
     "output_type": "stream",
     "text": [
      "INFO:tensorflow:0\n"
     ]
    },
    {
     "name": "stdout",
     "output_type": "stream",
     "text": [
      "INFO:tensorflow:models/1675335536.3683693epoch_7.meta\n"
     ]
    },
    {
     "name": "stderr",
     "output_type": "stream",
     "text": [
      "INFO:tensorflow:models/1675335536.3683693epoch_7.meta\n"
     ]
    },
    {
     "name": "stdout",
     "output_type": "stream",
     "text": [
      "INFO:tensorflow:500\n"
     ]
    },
    {
     "name": "stderr",
     "output_type": "stream",
     "text": [
      "INFO:tensorflow:500\n"
     ]
    },
    {
     "name": "stdout",
     "output_type": "stream",
     "text": [
      "INFO:tensorflow:models/1675335536.3683693epoch_7.data-00000-of-00001\n"
     ]
    },
    {
     "name": "stderr",
     "output_type": "stream",
     "text": [
      "INFO:tensorflow:models/1675335536.3683693epoch_7.data-00000-of-00001\n"
     ]
    },
    {
     "name": "stdout",
     "output_type": "stream",
     "text": [
      "INFO:tensorflow:800\n"
     ]
    },
    {
     "name": "stderr",
     "output_type": "stream",
     "text": [
      "INFO:tensorflow:800\n"
     ]
    },
    {
     "name": "stdout",
     "output_type": "stream",
     "text": [
      "INFO:tensorflow:models/1675335536.3683693/best_model.meta\n"
     ]
    },
    {
     "name": "stderr",
     "output_type": "stream",
     "text": [
      "INFO:tensorflow:models/1675335536.3683693/best_model.meta\n"
     ]
    },
    {
     "name": "stdout",
     "output_type": "stream",
     "text": [
      "INFO:tensorflow:500\n"
     ]
    },
    {
     "name": "stderr",
     "output_type": "stream",
     "text": [
      "INFO:tensorflow:500\n"
     ]
    },
    {
     "name": "stdout",
     "output_type": "stream",
     "text": [
      "INFO:tensorflow:models/1675335536.3683693/best_model.index\n"
     ]
    },
    {
     "name": "stderr",
     "output_type": "stream",
     "text": [
      "INFO:tensorflow:models/1675335536.3683693/best_model.index\n"
     ]
    },
    {
     "name": "stdout",
     "output_type": "stream",
     "text": [
      "INFO:tensorflow:500\n"
     ]
    },
    {
     "name": "stderr",
     "output_type": "stream",
     "text": [
      "INFO:tensorflow:500\n"
     ]
    },
    {
     "name": "stdout",
     "output_type": "stream",
     "text": [
      "INFO:tensorflow:models/1675335536.3683693/best_model.data-00000-of-00001\n"
     ]
    },
    {
     "name": "stderr",
     "output_type": "stream",
     "text": [
      "INFO:tensorflow:models/1675335536.3683693/best_model.data-00000-of-00001\n"
     ]
    },
    {
     "name": "stdout",
     "output_type": "stream",
     "text": [
      "INFO:tensorflow:800\n"
     ]
    },
    {
     "name": "stderr",
     "output_type": "stream",
     "text": [
      "INFO:tensorflow:800\n"
     ]
    },
    {
     "name": "stdout",
     "output_type": "stream",
     "text": [
      "step 20 , total_loss: 0.3057, data_loss: 0.3057\n",
      "step 40 , total_loss: 0.3162, data_loss: 0.3162\n",
      "step 60 , total_loss: 0.3039, data_loss: 0.3039\n",
      "eval valid at epoch 8: auc:0.9632,ndcg@1:0.848,ndcg@3:0.9383,ndcg@5:0.9402,hit@1:0.848,hit@3:0.9954,hit@5:1.0,group_auc:0.9545\n",
      "step 20 , total_loss: 0.2897, data_loss: 0.2897\n",
      "step 40 , total_loss: 0.3142, data_loss: 0.3142\n",
      "step 60 , total_loss: 0.2756, data_loss: 0.2756\n",
      "eval valid at epoch 9: auc:0.9646,ndcg@1:0.8488,ndcg@3:0.9376,ndcg@5:0.9403,hit@1:0.8488,hit@3:0.9934,hit@5:1.0,group_auc:0.9538\n",
      "step 20 , total_loss: 0.3387, data_loss: 0.3387\n",
      "step 40 , total_loss: 0.3234, data_loss: 0.3234\n",
      "step 60 , total_loss: 0.3617, data_loss: 0.3617\n",
      "eval valid at epoch 10: auc:0.9634,ndcg@1:0.8496,ndcg@3:0.9394,ndcg@5:0.9412,hit@1:0.8496,hit@3:0.9959,hit@5:1.0,group_auc:0.9556\n",
      "INFO:tensorflow:models/1675335536.3683693epoch_10.meta\n"
     ]
    },
    {
     "name": "stderr",
     "output_type": "stream",
     "text": [
      "INFO:tensorflow:models/1675335536.3683693epoch_10.meta\n"
     ]
    },
    {
     "name": "stdout",
     "output_type": "stream",
     "text": [
      "INFO:tensorflow:500\n"
     ]
    },
    {
     "name": "stderr",
     "output_type": "stream",
     "text": [
      "INFO:tensorflow:500\n"
     ]
    },
    {
     "name": "stdout",
     "output_type": "stream",
     "text": [
      "INFO:tensorflow:models/1675335536.3683693epoch_10.index\n"
     ]
    },
    {
     "name": "stderr",
     "output_type": "stream",
     "text": [
      "INFO:tensorflow:models/1675335536.3683693epoch_10.index\n"
     ]
    },
    {
     "name": "stdout",
     "output_type": "stream",
     "text": [
      "INFO:tensorflow:500\n"
     ]
    },
    {
     "name": "stderr",
     "output_type": "stream",
     "text": [
      "INFO:tensorflow:500\n"
     ]
    },
    {
     "name": "stdout",
     "output_type": "stream",
     "text": [
      "INFO:tensorflow:models/1675335536.3683693epoch_10.data-00000-of-00001\n"
     ]
    },
    {
     "name": "stderr",
     "output_type": "stream",
     "text": [
      "INFO:tensorflow:models/1675335536.3683693epoch_10.data-00000-of-00001\n"
     ]
    },
    {
     "name": "stdout",
     "output_type": "stream",
     "text": [
      "INFO:tensorflow:800\n"
     ]
    },
    {
     "name": "stderr",
     "output_type": "stream",
     "text": [
      "INFO:tensorflow:800\n"
     ]
    },
    {
     "name": "stdout",
     "output_type": "stream",
     "text": [
      "INFO:tensorflow:models/1675335536.3683693/best_model.meta\n"
     ]
    },
    {
     "name": "stderr",
     "output_type": "stream",
     "text": [
      "INFO:tensorflow:models/1675335536.3683693/best_model.meta\n"
     ]
    },
    {
     "name": "stdout",
     "output_type": "stream",
     "text": [
      "INFO:tensorflow:500\n"
     ]
    },
    {
     "name": "stderr",
     "output_type": "stream",
     "text": [
      "INFO:tensorflow:500\n"
     ]
    },
    {
     "name": "stdout",
     "output_type": "stream",
     "text": [
      "INFO:tensorflow:models/1675335536.3683693/best_model.index\n"
     ]
    },
    {
     "name": "stderr",
     "output_type": "stream",
     "text": [
      "INFO:tensorflow:models/1675335536.3683693/best_model.index\n"
     ]
    },
    {
     "name": "stdout",
     "output_type": "stream",
     "text": [
      "INFO:tensorflow:500\n"
     ]
    },
    {
     "name": "stderr",
     "output_type": "stream",
     "text": [
      "INFO:tensorflow:500\n"
     ]
    },
    {
     "name": "stdout",
     "output_type": "stream",
     "text": [
      "INFO:tensorflow:models/1675335536.3683693/best_model.data-00000-of-00001\n"
     ]
    },
    {
     "name": "stderr",
     "output_type": "stream",
     "text": [
      "INFO:tensorflow:models/1675335536.3683693/best_model.data-00000-of-00001\n"
     ]
    },
    {
     "name": "stdout",
     "output_type": "stream",
     "text": [
      "INFO:tensorflow:800\n"
     ]
    },
    {
     "name": "stderr",
     "output_type": "stream",
     "text": [
      "INFO:tensorflow:800\n"
     ]
    },
    {
     "name": "stdout",
     "output_type": "stream",
     "text": [
      "[(1, {'auc': 0.5253, 'ndcg@1': 0.1773, 'ndcg@3': 0.458, 'ndcg@5': 0.5911, 'hit@1': 0.1773, 'hit@3': 0.6806, 'hit@5': 1.0, 'group_auc': 0.539}), (2, {'auc': 0.71, 'ndcg@1': 0.3592, 'ndcg@3': 0.6371, 'ndcg@5': 0.7025, 'hit@1': 0.3592, 'hit@3': 0.8438, 'hit@5': 1.0, 'group_auc': 0.698}), (3, {'auc': 0.9329, 'ndcg@1': 0.8161, 'ndcg@3': 0.9245, 'ndcg@5': 0.927, 'hit@1': 0.8161, 'hit@3': 0.9938, 'hit@5': 1.0, 'group_auc': 0.9435}), (4, {'auc': 0.9521, 'ndcg@1': 0.8364, 'ndcg@3': 0.9328, 'ndcg@5': 0.9351, 'hit@1': 0.8364, 'hit@3': 0.9946, 'hit@5': 1.0, 'group_auc': 0.95}), (5, {'auc': 0.9545, 'ndcg@1': 0.8509, 'ndcg@3': 0.9372, 'ndcg@5': 0.9401, 'hit@1': 0.8509, 'hit@3': 0.993, 'hit@5': 1.0, 'group_auc': 0.9528}), (6, {'auc': 0.9539, 'ndcg@1': 0.8434, 'ndcg@3': 0.9352, 'ndcg@5': 0.9381, 'hit@1': 0.8434, 'hit@3': 0.993, 'hit@5': 1.0, 'group_auc': 0.9522}), (7, {'auc': 0.9615, 'ndcg@1': 0.8492, 'ndcg@3': 0.9391, 'ndcg@5': 0.9406, 'hit@1': 0.8492, 'hit@3': 0.9963, 'hit@5': 1.0, 'group_auc': 0.9547}), (8, {'auc': 0.9632, 'ndcg@1': 0.848, 'ndcg@3': 0.9383, 'ndcg@5': 0.9402, 'hit@1': 0.848, 'hit@3': 0.9954, 'hit@5': 1.0, 'group_auc': 0.9545}), (9, {'auc': 0.9646, 'ndcg@1': 0.8488, 'ndcg@3': 0.9376, 'ndcg@5': 0.9403, 'hit@1': 0.8488, 'hit@3': 0.9934, 'hit@5': 1.0, 'group_auc': 0.9538}), (10, {'auc': 0.9634, 'ndcg@1': 0.8496, 'ndcg@3': 0.9394, 'ndcg@5': 0.9412, 'hit@1': 0.8496, 'hit@3': 0.9959, 'hit@5': 1.0, 'group_auc': 0.9556})]\n",
      "best epoch: 10\n",
      "Time cost for training is 2.91 mins\n"
     ]
    }
   ],
   "source": [
    "with Timer() as train_time:\n",
    "    model, train_info, eval_info = model.fit(train_path, valid_path, valid_num_ngs=valid_num_ngs) \n",
    "\n",
    "# valid_num_ngs is the number of negative lines after each positive line in your valid_file \n",
    "# we will evaluate the performance of model on valid_file every epoch\n",
    "print('Time cost for training is {0:.2f} mins'.format(train_time.interval/60.0))"
   ]
  },
  {
   "cell_type": "code",
   "execution_count": 54,
   "id": "useful-header",
   "metadata": {},
   "outputs": [],
   "source": [
    "# unpack train and evaluation info\n",
    "epochs, train_metrics = zip(*train_info)\n",
    "epochs, eval_metrics = zip(*eval_info)\n",
    "\n",
    "# Reformat train metrics from list of dicts to dict of lists \n",
    "train_column_names = train_metrics[0].keys()\n",
    "train_metric_dict = {name: [] for name in train_column_names}\n",
    "for train_metric in train_metrics: \n",
    "    for key, val in train_metric.items():\n",
    "        train_metric_dict[key].append(val)\n",
    "\n",
    "# Reformat eval metrics from list of dicts to dict of lists \n",
    "eval_column_names = eval_metrics[0].keys()\n",
    "eval_metric_dict = {name: [] for name in eval_column_names}\n",
    "for eval_metric in eval_metrics:\n",
    "    for key, val in eval_metric.items():\n",
    "        eval_metric_dict[key].append(val) "
   ]
  },
  {
   "cell_type": "markdown",
   "id": "decimal-senior",
   "metadata": {},
   "source": [
    "The train metrics that are logged include: \n",
    "- **Loss**: The loss is the summation of the regularization loss and the data loss. The regularization loss penalizes the magnitude of the parameters to avoid overfitting.\n",
    "- **Data Loss:** The data loss is computed between the rating predicted by the model and the ground truth interactions. This is typically a cross entropy loss for data with implicit feedback and mean squared error loss for explicit feedback.\n",
    "\n",
    "We can visualize plot these metrics across metrics as follows: "
   ]
  },
  {
   "cell_type": "code",
   "execution_count": 55,
   "id": "banner-skating",
   "metadata": {},
   "outputs": [
    {
     "data": {
      "image/png": "[encoded data removed]",
      "text/plain": [
       "<Figure size 2000x2000 with 2 Axes>"
      ]
     },
     "metadata": {},
     "output_type": "display_data"
    }
   ],
   "source": [
    "# Visualize train metrics\n",
    "\n",
    "f, axarr = plt.subplots(len(train_metric_dict.keys()), 1, figsize=(20, 20))\n",
    "\n",
    "for i, key in enumerate(train_metric_dict.keys()): \n",
    "    index = list(range(len(train_metric_dict[key])))\n",
    "    vals = train_metric_dict[key]\n",
    "    axarr[i].set_title(f\"Train {key}\")\n",
    "    axarr[i].plot(index, vals)"
   ]
  },
  {
   "cell_type": "markdown",
   "id": "medical-cambodia",
   "metadata": {},
   "source": [
    "The validation metrics that are logged include: \n",
    "- **AUC**: [AUC](https://developers.google.com/machine-learning/crash-course/classification/roc-and-auc#:~:text=AUC%20stands%20for%20%22Area%20under,to%20(1%2C1)) measures the likelihood that a random relevant item is ranked higher than a random irrelevant item. Higher the likelihood of this happening implies a higher AUC score meaning a better recommendation system. \n",
    "- **GROUP AUC**: Average AUC across users.\n",
    "- **Normalized discounted cumulative gain (NDCG@K)**: NDCG measures the overall reward at all positions that hold a relevant item. The reward is an inverse log of the position (i.e. higher ranks for relevant items would lead to better reward, as desired).\n",
    "\n",
    "For more information regarding the aforementioned metrics, please refer to this [blog post](https://flowthytensor.medium.com/some-metrics-to-evaluate-recommendation-systems-9e0cf0c8b6cf#:~:text=AUC%20measures%20the%20likelihood%20that,meaning%20a%20better%20recommendation%20system.). \n",
    "\n",
    "We can visualize plot these metrics across metrics as follows:"
   ]
  },
  {
   "cell_type": "code",
   "execution_count": 56,
   "id": "proper-science",
   "metadata": {},
   "outputs": [
    {
     "data": {
      "image/png": "[encoded data removed]",
      "text/plain": [
       "<Figure size 2000x4000 with 8 Axes>"
      ]
     },
     "metadata": {},
     "output_type": "display_data"
    }
   ],
   "source": [
    "# Visualize eval metrics\n",
    "\n",
    "f, axarr = plt.subplots(len(eval_metric_dict.keys()), 1, figsize=(20, 40))\n",
    "\n",
    "for i, key in enumerate(eval_metric_dict.keys()): \n",
    "    index = list(range(len(eval_metric_dict[key])))\n",
    "    vals = eval_metric_dict[key]\n",
    "    axarr[i].set_title(f\"Validation {key}\")\n",
    "    axarr[i].plot(index, vals)"
   ]
  },
  {
   "cell_type": "markdown",
   "id": "pressing-trustee",
   "metadata": {},
   "source": [
    "## Testing"
   ]
  },
  {
   "cell_type": "code",
   "execution_count": 57,
   "id": "minus-cocktail",
   "metadata": {},
   "outputs": [
    {
     "name": "stdout",
     "output_type": "stream",
     "text": [
      "{'auc': 0.9512, 'ndcg@1': 0.7017, 'ndcg@3': 0.8461, 'ndcg@5': 0.8608, 'hit@1': 0.7017, 'hit@3': 0.9442, 'hit@5': 0.9794, 'group_auc': 0.9385}\n"
     ]
    }
   ],
   "source": [
    "res = model.run_eval(test_path, num_ngs=test_num_ngs)\n",
    "print(res)"
   ]
  },
  {
   "cell_type": "code",
   "execution_count": 58,
   "id": "seeing-detail",
   "metadata": {},
   "outputs": [
    {
     "data": {
      "text/html": [
       "<div>\n",
       "<style scoped>\n",
       "    .dataframe tbody tr th:only-of-type {\n",
       "        vertical-align: middle;\n",
       "    }\n",
       "\n",
       "    .dataframe tbody tr th {\n",
       "        vertical-align: top;\n",
       "    }\n",
       "\n",
       "    .dataframe thead th {\n",
       "        text-align: right;\n",
       "    }\n",
       "</style>\n",
       "<table border=\"1\" class=\"dataframe\">\n",
       "  <thead>\n",
       "    <tr style=\"text-align: right;\">\n",
       "      <th></th>\n",
       "      <th>auc</th>\n",
       "      <th>ndcg@1</th>\n",
       "      <th>ndcg@3</th>\n",
       "      <th>ndcg@5</th>\n",
       "      <th>hit@1</th>\n",
       "      <th>hit@3</th>\n",
       "      <th>hit@5</th>\n",
       "      <th>group_auc</th>\n",
       "      <th>name</th>\n",
       "    </tr>\n",
       "  </thead>\n",
       "  <tbody>\n",
       "    <tr>\n",
       "      <th>0</th>\n",
       "      <td>0.9512</td>\n",
       "      <td>0.7017</td>\n",
       "      <td>0.8461</td>\n",
       "      <td>0.8608</td>\n",
       "      <td>0.7017</td>\n",
       "      <td>0.9442</td>\n",
       "      <td>0.9794</td>\n",
       "      <td>0.9385</td>\n",
       "      <td>A2SVD</td>\n",
       "    </tr>\n",
       "  </tbody>\n",
       "</table>\n",
       "</div>"
      ],
      "text/plain": [
       "      auc  ndcg@1  ndcg@3  ndcg@5   hit@1   hit@3   hit@5  group_auc   name\n",
       "0  0.9512  0.7017  0.8461  0.8608  0.7017  0.9442  0.9794     0.9385  A2SVD"
      ]
     },
     "execution_count": 58,
     "metadata": {},
     "output_type": "execute_result"
    }
   ],
   "source": [
    "res[\"name\"] = \"A2SVD\"\n",
    "res = {key: [val] for key, val in res.items()}\n",
    "res_df = pd.DataFrame.from_dict(res)\n",
    "res_df"
   ]
  },
  {
   "cell_type": "code",
   "execution_count": 59,
   "id": "crazy-plaza",
   "metadata": {},
   "outputs": [],
   "source": [
    "res_df.to_csv(\"kasandr_results.csv\", index=False)"
   ]
  },
  {
   "cell_type": "code",
   "execution_count": null,
   "id": "amber-devon",
   "metadata": {},
   "outputs": [],
   "source": []
  }
 ],
 "metadata": {
  "kernelspec": {
   "display_name": "recsys",
   "language": "python",
   "name": "recsys_env"
  },
  "language_info": {
   "codemirror_mode": {
    "name": "ipython",
    "version": 3
   },
   "file_extension": ".py",
   "mimetype": "text/x-python",
   "name": "python",
   "nbconvert_exporter": "python",
   "pygments_lexer": "ipython3",
   "version": "3.7.10"
  }
 },
 "nbformat": 4,
 "nbformat_minor": 5
}
