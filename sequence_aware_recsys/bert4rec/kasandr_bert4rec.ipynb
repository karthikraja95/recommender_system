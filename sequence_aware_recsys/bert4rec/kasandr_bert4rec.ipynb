{
 "cells": [
  {
   "cell_type": "markdown",
   "metadata": {},
   "source": [
    "## Introduction\n",
    "\n",
    "This notebook presents a demo of [BERT4Rec](https://arxiv.org/pdf/1904.06690) that was introduced in 2019. BERT4Rec aims to address the limitations of the sequence-based recommender systems that model the user's historical interactions unidirectionally (from left to right). To do so, BERT4Rec employs a bidirectional self-attention network. The model is trained using the Cloze objective, where some items are masked randomly, and the model is supposed to predict the ids of masked items with cross-entropy loss. This notebook is based on the [PyTorch implementation](https://github.com/jaywonchung/BERT4Rec-VAE-Pytorch) of BERT4Rec, and consists of the following sections:\n",
    "1. Data\n",
    "2. BERT4Rec model\n",
    "3. Training and testing\n",
    "\n",
    "<p align=\"center\">\n",
    "    <img src=\"https://user-images.githubusercontent.com/16665038/189218683-0d77ba28-ebf8-449f-aed2-dcd73579ea4a.png\" alt=\"diagram\" width=\"600\"/>\n",
    "</p>"
   ]
  },
  {
   "cell_type": "code",
   "execution_count": 1,
   "metadata": {},
   "outputs": [],
   "source": [
    "import json\n",
    "import pickle\n",
    "from pathlib import Path\n",
    "from typing import Tuple\n",
    "\n",
    "import matplotlib.pyplot as plt\n",
    "import torch\n",
    "import torch.nn as nn\n",
    "import torch.optim as optim\n",
    "import torch.utils.data as data_utils\n",
    "from dotmap import DotMap\n",
    "from tqdm import tqdm\n",
    "\n",
    "from model.embedding import BERTEmbedding\n",
    "from model.transformer import TransformerBlock\n",
    "from utils import *"
   ]
  },
  {
   "cell_type": "markdown",
   "metadata": {},
   "source": [
    "Below is the list of parameters and arguments used for training and evaluating the model."
   ]
  },
  {
   "cell_type": "code",
   "execution_count": 2,
   "metadata": {},
   "outputs": [],
   "source": [
    "args = DotMap()\n",
    "\n",
    "################\n",
    "#   Data\n",
    "################\n",
    "args.preprocessed = Path('./Data/kasandr/preprocessed')\n",
    "args.min_rating = 0\n",
    "args.min_uc = 5\n",
    "args.min_sc = 0\n",
    "args.eval_set_size = 500\n",
    "\n",
    "args.train_batch_size = 128\n",
    "args.val_batch_size = 128\n",
    "args.test_batch_size = 128\n",
    "\n",
    "args.negative_sampler = 'random'\n",
    "args.train_negative_sample_size = 0\n",
    "args.test_negative_sample_size = 100\n",
    "\n",
    "args.data_seed = 98765\n",
    "\n",
    "################\n",
    "# Trainer\n",
    "################\n",
    "args.optimizer = 'Adam'\n",
    "args.lr = 0.002\n",
    "args.weight_decay = 0\n",
    "args.momentum = None\n",
    "\n",
    "args.decay_step = 25\n",
    "args.gamma = 1.0\n",
    "\n",
    "args.num_epochs = 30\n",
    "\n",
    "args.log_period = 128000\n",
    "\n",
    "args.metric_ks = [1, 5, 10]\n",
    "args.best_metric = 'NDCG@10'\n",
    "\n",
    "################\n",
    "# Bert\n",
    "################\n",
    "args.model_init_seed = 0\n",
    "args.bert_max_len = 200\n",
    "args.bert_hidden_units = 256\n",
    "args.bert_num_blocks = 4\n",
    "args.bert_num_heads = 4\n",
    "args.bert_dropout = 0.1\n",
    "args.bert_mask_prob = 0.15\n",
    "\n",
    "################\n",
    "# Experiment\n",
    "################\n",
    "args.experiment_dir = './exp'\n",
    "\n",
    "args.device = 'cuda' if torch.cuda.is_available() else 'cpu'\n",
    "\n",
    "args.num_gpu = 1\n",
    "\n",
    "os.makedirs(args.experiment_dir, exist_ok=True)\n"
   ]
  },
  {
   "cell_type": "code",
   "execution_count": 3,
   "metadata": {},
   "outputs": [],
   "source": [
    "class BertTrainDataset(data_utils.Dataset):\n",
    "    def __init__(self, u2seq, max_len, mask_prob, mask_token, num_items, rng):\n",
    "        \"\"\"Train dataset class\n",
    "\n",
    "        Args:\n",
    "            u2seq (dict): train set dict mapping users to their sequence of items\n",
    "            max_len (int): maximum sequence length\n",
    "            mask_prob (float): the probability to mask the tokens\n",
    "            mask_token (int): the value to replece masked values with\n",
    "            num_items (int): total number of items in the dataset\n",
    "            rng (random.Random): random generator\n",
    "        \"\"\"\n",
    "        self.u2seq = u2seq\n",
    "        self.users = sorted(self.u2seq.keys())\n",
    "        self.max_len = max_len\n",
    "        self.mask_prob = mask_prob\n",
    "        self.mask_token = mask_token\n",
    "        self.num_items = num_items\n",
    "        self.rng = rng\n",
    "\n",
    "    def __len__(self):\n",
    "        return len(self.users)\n",
    "\n",
    "    def __getitem__(self, index):\n",
    "        user = self.users[index]\n",
    "        seq = self._getseq(user)\n",
    "\n",
    "        tokens = []\n",
    "        labels = []\n",
    "       \n",
    "        for s in seq:\n",
    "            prob = self.rng.random()\n",
    "            if prob < self.mask_prob:\n",
    "                prob /= self.mask_prob\n",
    "\n",
    "                if prob < 0.8:\n",
    "                    tokens.append(self.mask_token)\n",
    "                elif prob < 0.9:\n",
    "                    tokens.append(self.rng.randint(1, self.num_items))\n",
    "                else:\n",
    "                    tokens.append(s)\n",
    "\n",
    "                labels.append(s)\n",
    "            else:\n",
    "                tokens.append(s)\n",
    "                labels.append(0)\n",
    "\n",
    "        tokens = tokens[-self.max_len:]\n",
    "        labels = labels[-self.max_len:]\n",
    "       \n",
    "        mask_len = self.max_len - len(tokens)\n",
    "\n",
    "        tokens = [0] * mask_len + tokens\n",
    "        labels = [0] * mask_len + labels\n",
    "\n",
    "        return torch.LongTensor(tokens), torch.LongTensor(labels)\n",
    "\n",
    "    def _getseq(self, user):\n",
    "        return self.u2seq[user]\n",
    "\n",
    "\n"
   ]
  },
  {
   "cell_type": "markdown",
   "metadata": {},
   "source": [
    "### BertEvalDataset\n",
    "For evaluation, the special [MASK] token is appended at the end of the input sequence to indicate the item that needs to be predicted. \n",
    "The ground truth paired with generated negative samples forms the candidates vector, and the labels vector indicates the position of the ground truth by assigning 1 to the first element and 0 to the rest."
   ]
  },
  {
   "cell_type": "code",
   "execution_count": 4,
   "metadata": {},
   "outputs": [],
   "source": [
    "class BertEvalDataset(data_utils.Dataset):\n",
    "    \"\"\"Evaluation dataset class\n",
    "\n",
    "        Args:\n",
    "            u2seq (dict): train dict mapping users to their sequence of items\n",
    "            u2answer (dict): val/test dict mapping users to their val/test item\n",
    "            mask_token (int): the value to replece masked values with\n",
    "            num_items (int): total number of items in the dataset\n",
    "            negative_samples (dict): a dict mapping users to their negative samples\n",
    "        \"\"\"\n",
    "    def __init__(self, u2seq, u2answer, max_len, mask_token, negative_samples):\n",
    "        self.u2seq = u2seq\n",
    "        self.users = sorted(self.u2seq.keys())\n",
    "        self.u2answer = u2answer\n",
    "        self.max_len = max_len\n",
    "        self.mask_token = mask_token\n",
    "        self.negative_samples = negative_samples\n",
    "\n",
    "    def __len__(self):\n",
    "        return len(self.users)\n",
    "\n",
    "    def __getitem__(self, index):\n",
    "        user = self.users[index]\n",
    "        seq = self.u2seq[user]\n",
    "        answer = self.u2answer[user]\n",
    "        negs = self.negative_samples[user]\n",
    "        \n",
    "        candidates = answer + negs\n",
    "        labels = [1] * len(answer) + [0] * len(negs)\n",
    "\n",
    "        seq = seq + [self.mask_token]\n",
    "        seq = seq[-self.max_len:]\n",
    "        padding_len = self.max_len - len(seq)\n",
    "        seq = [0] * padding_len + seq\n",
    "\n",
    "        return torch.LongTensor(seq), torch.LongTensor(candidates), torch.LongTensor(labels)"
   ]
  },
  {
   "cell_type": "markdown",
   "metadata": {},
   "source": [
    "The preprocessed datasets and negative samples are generated after running the preprocessing notebook.\n",
    "\n",
    "The dataloaders are created using the corresponding datasets.\n",
    "\n",
    "Note that the value assinged to the the [MASK] token is actually the number of all tokens (items) in the dataset incremented by one."
   ]
  },
  {
   "cell_type": "code",
   "execution_count": 5,
   "metadata": {},
   "outputs": [],
   "source": [
    "dataset_path = args.preprocessed.joinpath('dataset.pkl')\n",
    "dataset = pickle.load(dataset_path.open('rb'))\n",
    "train = dataset['train']\n",
    "val = dataset['val']\n",
    "test = dataset['test']\n",
    "val_label = dataset['val_label']\n",
    "test_label = dataset['test_label']\n",
    "\n",
    "negatives_path = args.preprocessed.joinpath(f'{args.negative_sampler}_negatives.pkl')\n",
    "test_negative_samples = pickle.load(negatives_path.open('rb'))\n",
    "\n",
    "args.item_count = len(dataset['smap'])\n",
    "\n",
    "mask_token = args.item_count + 1\n",
    "\n",
    "rng = random.Random(args.data_seed)\n",
    "\n",
    "train_dataset = BertTrainDataset(train, args.bert_max_len, args.bert_mask_prob, mask_token, args.item_count, rng)\n",
    "train_loader = data_utils.DataLoader(train_dataset, batch_size=args.train_batch_size,\n",
    "                                        shuffle=False, pin_memory=True)\n",
    "\n",
    "val_dataset = BertEvalDataset(train, val, args.bert_max_len, mask_token, test_negative_samples)\n",
    "val_loader = data_utils.DataLoader(val_dataset, batch_size=args.val_batch_size,\n",
    "                                           shuffle=True, pin_memory=True)\n",
    "\n",
    "test_dataset = BertEvalDataset(train, test, args.bert_max_len, mask_token, test_negative_samples)\n",
    "test_loader = data_utils.DataLoader(test_dataset, batch_size=args.test_batch_size,\n",
    "                                           shuffle=True, pin_memory=True)\n",
    "    \n"
   ]
  },
  {
   "cell_type": "code",
   "execution_count": 7,
   "metadata": {},
   "outputs": [],
   "source": [
    "class BERT(nn.Module):\n",
    "    def __init__(self, args):\n",
    "        super().__init__()\n",
    "\n",
    "        fix_random_seed_as(args.model_init_seed)\n",
    "\n",
    "        max_len = args.bert_max_len\n",
    "        num_items = args.item_count\n",
    "        n_layers = args.bert_num_blocks\n",
    "        heads = args.bert_num_heads\n",
    "        vocab_size = num_items + 2\n",
    "        hidden = args.bert_hidden_units\n",
    "        self.hidden = hidden\n",
    "        dropout = args.bert_dropout\n",
    "\n",
    "        # embedding for BERT, sum of positional and token embeddings\n",
    "        self.embedding = BERTEmbedding(vocab_size=vocab_size, embed_size=self.hidden, max_len=max_len, dropout=dropout)\n",
    "\n",
    "        # multi-layers transformer blocks, deep network\n",
    "        self.transformer_blocks = nn.ModuleList(\n",
    "            [TransformerBlock(hidden, heads, hidden * 4, dropout) for _ in range(n_layers)])\n",
    "\n",
    "    def forward(self, x):\n",
    "        mask = (x > 0).unsqueeze(1).repeat(1, x.size(1), 1).unsqueeze(1)\n",
    "\n",
    "        # embedding the indexed sequence to sequence of vectors\n",
    "        x = self.embedding(x)\n",
    "\n",
    "        # running over multiple transformer blocks\n",
    "        for transformer in self.transformer_blocks:\n",
    "            x = transformer.forward(x, mask)\n",
    "\n",
    "        return x\n",
    "\n",
    "    def init_weights(self):\n",
    "        pass\n",
    "\n",
    "\n",
    "class BERTModel(nn.Module):\n",
    "    def __init__(self, args):\n",
    "        super().__init__()\n",
    "        self.args = args\n",
    "        self.bert = BERT(args)\n",
    "        self.out = nn.Linear(self.bert.hidden, args.item_count + 1)\n",
    "\n",
    "    def forward(self, x):\n",
    "        x = self.bert(x)\n",
    "        return self.out(x)"
   ]
  },
  {
   "cell_type": "code",
   "execution_count": 8,
   "metadata": {},
   "outputs": [],
   "source": [
    "class BERTTrainer():\n",
    "    def __init__(self, args, model, train_loader, val_loader, test_loader, export_root):\n",
    "        \"\"\"Trainer class\n",
    "\n",
    "        Args:\n",
    "            args (Dotmap): all the arguments\n",
    "            model (BERTModel): the bert model\n",
    "            train_loader (data_utils.dataloader): dataloader for the train set\n",
    "            val_loader (data_utils.dataloader): dataloader for the validation set\n",
    "            test_loader (data_utils.dataloader): dataloader for the test set\n",
    "            export_root (path): the directory to save checkpoints\n",
    "        \"\"\"\n",
    "        self.args = args\n",
    "        self.device = args.device\n",
    "        self.model = model.to(self.device)\n",
    "        self.is_parallel = args.num_gpu > 1\n",
    "        if self.is_parallel:\n",
    "            self.model = nn.DataParallel(self.model)\n",
    "\n",
    "        self.train_loader = train_loader\n",
    "        self.val_loader = val_loader\n",
    "        self.test_loader = test_loader\n",
    "        self.optimizer = self._create_optimizer()\n",
    "        self.lr_scheduler = optim.lr_scheduler.StepLR(self.optimizer, step_size=args.decay_step, gamma=args.gamma)\n",
    "\n",
    "        self.num_epochs = args.num_epochs\n",
    "        self.metric_ks = args.metric_ks\n",
    "        self.best_metric_key = args.best_metric\n",
    "        self.best_metric = 0.\n",
    "\n",
    "        self.checkpoint_path = export_root\n",
    "        self.ce = nn.CrossEntropyLoss(ignore_index=0)\n",
    "\n",
    "        keys = ['Recall@%d' % k for k in self.metric_ks]\n",
    "        keys += ['NDCG@%d' % k for k in self.metric_ks]\n",
    "        self.metrics = {new_list: [] for new_list in keys}\n",
    "\n",
    "    def calculate_loss(self, batch):\n",
    "        \"\"\"calculates the cross-entropy loss during training\n",
    "\n",
    "        Args:\n",
    "            batch (Tuple): tuple of sequences and labels in a batch\n",
    "\n",
    "        Returns:\n",
    "            torch.Tensor: the calculated loss of the batch\n",
    "        \"\"\"\n",
    "        seqs, labels = batch\n",
    "        logits = self.model(seqs)  # B x T x V\n",
    "        logits = logits.view(-1, logits.size(-1))  # (B*T) x V\n",
    "        labels = labels.view(-1)  # B*T\n",
    "        loss = self.ce(logits, labels)\n",
    "        return loss\n",
    "\n",
    "    def calculate_metrics(self, batch):\n",
    "        \"\"\"calculates recall and ndcg during evaluation\n",
    "\n",
    "        Args:\n",
    "            batch (Tuple): tuple of sequences, candidates, and labels in a batch\n",
    "\n",
    "        Returns:\n",
    "            dict: a dict including all the evaluation metrics\n",
    "        \"\"\"\n",
    "        seqs, candidates, labels = batch\n",
    "        scores = self.model(seqs)  # B x T x V\n",
    "        scores = scores[:, -1, :]  # B x V\n",
    "        scores = scores.gather(1, candidates)  # B x C\n",
    "        metrics = recalls_and_ndcgs_for_ks(scores, labels, self.metric_ks)\n",
    "        return metrics\n",
    "    \n",
    "    def train(self):\n",
    "        \"\"\"trains the model according to the number of epochs\n",
    "        \"\"\"\n",
    "        accum_iter = 0\n",
    "        # self.validate(0, accum_iter)\n",
    "\n",
    "        for epoch in range(self.num_epochs):\n",
    "            accum_iter = self.train_one_epoch(epoch, accum_iter)\n",
    "            self.validate(epoch, accum_iter)\n",
    "\n",
    "\n",
    "    def train_one_epoch(self, epoch, accum_iter):\n",
    "        \"\"\"trains the model for one epoch\n",
    "\n",
    "        Args:\n",
    "            epoch (int): the number of current epoch\n",
    "            accum_iter (int): total number of iterations\n",
    "\n",
    "        Returns:\n",
    "            int: the updated value for accum_iter\n",
    "        \"\"\"\n",
    "        self.model.train()\n",
    "\n",
    "        average_meter_set = AverageMeterSet()\n",
    "        tqdm_dataloader = tqdm(self.train_loader)\n",
    "\n",
    "        for batch_idx, batch in enumerate(tqdm_dataloader):\n",
    "            batch_size = batch[0].size(0)\n",
    "            batch = [x.to(self.device) for x in batch]\n",
    "            \n",
    "            self.optimizer.zero_grad()\n",
    "            loss = self.calculate_loss(batch)\n",
    "            loss.backward()\n",
    "\n",
    "            self.optimizer.step()\n",
    "\n",
    "            average_meter_set.update('loss', loss.item())\n",
    "            tqdm_dataloader.set_description(\n",
    "                'Epoch {}, loss {:.3f} '.format(epoch, average_meter_set['loss'].avg))\n",
    "\n",
    "            accum_iter += batch_size\n",
    "\n",
    "        self.lr_scheduler.step()\n",
    "        return accum_iter\n",
    "\n",
    "    def validate(self, epoch, accum_iter):\n",
    "        \"\"\"evaluates the model after training for one epoch\n",
    "\n",
    "        Args:\n",
    "            epoch (int): the number of current epoch\n",
    "            accum_iter (int): otal number of iterations\n",
    "        \"\"\"\n",
    "        self.model.eval()\n",
    "\n",
    "        average_meter_set = AverageMeterSet()\n",
    "\n",
    "        with torch.no_grad():\n",
    "            tqdm_dataloader = tqdm(self.val_loader)\n",
    "            for batch_idx, batch in enumerate(tqdm_dataloader):\n",
    "                batch = [x.to(self.device) for x in batch]\n",
    "\n",
    "                metrics = self.calculate_metrics(batch)\n",
    "\n",
    "                for k, v in metrics.items():\n",
    "                    average_meter_set.update(k, v)\n",
    "                description_metrics = ['NDCG@%d' % k for k in self.metric_ks[:3]] +\\\n",
    "                                      ['Recall@%d' % k for k in self.metric_ks[:3]]\n",
    "                description = 'Val: ' + ', '.join(s + ' {:.3f}' for s in description_metrics)\n",
    "                description = description.replace('NDCG', 'N').replace('Recall', 'R')\n",
    "                description = description.format(*(average_meter_set[k].avg for k in description_metrics))\n",
    "                tqdm_dataloader.set_description(description)\n",
    "\n",
    "            state_dict = self._create_state_dict()\n",
    "            state_dict['epoch'] = epoch\n",
    "            self._save_recent_model(state_dict)\n",
    "\n",
    "            average_metrics = average_meter_set.averages()\n",
    "            for k, v in average_metrics.items():    \n",
    "                self.metrics[k].append(v)\n",
    "            \n",
    "            if average_metrics[self.best_metric_key] > self.best_metric:\n",
    "                self._save_best_model(state_dict)\n",
    "                self.best_metric = average_metrics[self.best_metric_key]\n",
    "\n",
    "\n",
    "\n",
    "\n",
    "    def test(self):\n",
    "        \"\"\"tests the model after training is done\n",
    "        \"\"\"\n",
    "        print('Test best model with test set!')\n",
    "\n",
    "        best_model = torch.load(os.path.join(self.checkpoint_path, 'best_model.pth')).get('model_state_dict')\n",
    "        self.model.load_state_dict(best_model)\n",
    "        self.model.eval()\n",
    "\n",
    "        average_meter_set = AverageMeterSet()\n",
    "\n",
    "        with torch.no_grad():\n",
    "            tqdm_dataloader = tqdm(self.test_loader)\n",
    "            for batch_idx, batch in enumerate(tqdm_dataloader):\n",
    "                batch = [x.to(self.device) for x in batch]\n",
    "\n",
    "                metrics = self.calculate_metrics(batch)\n",
    "\n",
    "                for k, v in metrics.items():\n",
    "                    average_meter_set.update(k, v)\n",
    "                description_metrics = ['NDCG@%d' % k for k in self.metric_ks[:3]] +\\\n",
    "                                      ['Recall@%d' % k for k in self.metric_ks[:3]]\n",
    "                description = 'Val: ' + ', '.join(s + ' {:.3f}' for s in description_metrics)\n",
    "                description = description.replace('NDCG', 'N').replace('Recall', 'R')\n",
    "                description = description.format(*(average_meter_set[k].avg for k in description_metrics))\n",
    "                tqdm_dataloader.set_description(description)\n",
    "\n",
    "            average_metrics = average_meter_set.averages()\n",
    "            with open(os.path.join(self.checkpoint_path, 'test_metrics.json'), 'w') as f:\n",
    "                json.dump(average_metrics, f, indent=4)\n",
    "            print(average_metrics)\n",
    "\n",
    "    def _create_optimizer(self):\n",
    "        \"\"\"creates the optimizer according to optimizer parameters\n",
    "\n",
    "        Raises:\n",
    "            ValueError: raised when the selected optimizer is other than sgd or adam\n",
    "\n",
    "        Returns:\n",
    "            optim.Optimizer: the optimizer object\n",
    "        \"\"\"\n",
    "        args = self.args\n",
    "        if args.optimizer.lower() == 'adam':\n",
    "            return optim.Adam(self.model.parameters(), lr=args.lr, weight_decay=args.weight_decay)\n",
    "        elif args.optimizer.lower() == 'sgd':\n",
    "            return optim.SGD(self.model.parameters(), lr=args.lr, weight_decay=args.weight_decay, momentum=args.momentum)\n",
    "        else:\n",
    "            raise ValueError\n",
    "\n",
    "    def _save_best_model(self, state_dict):\n",
    "        \"\"\"saves the best model checkpoint to the checkpoint path\n",
    "\n",
    "        Args:\n",
    "            state_dict (dict): the state of the model and the optimizer\n",
    "        \"\"\"\n",
    "        print(\"Update Best {} Model at {}\".format(self.best_metric_key, state_dict['epoch']))\n",
    "        torch.save(state_dict, os.path.join(self.checkpoint_path, 'best_model.pth'))\n",
    "\n",
    "    def _save_recent_model(self, state_dict):\n",
    "        \"\"\"saves the most recent model checkpoint to the checkpoint path\n",
    "\n",
    "        Args:\n",
    "            state_dict (dict): the state of the model and the optimizer\n",
    "        \"\"\"\n",
    "        torch.save(state_dict, os.path.join(self.checkpoint_path, 'recent_model.pth'))\n",
    "    \n",
    "    def _create_state_dict(self):\n",
    "        \"\"\"creates the dict for the model state and the optimizer's\n",
    "\n",
    "        Returns:\n",
    "            dict: a dict including the model state and the optimizer's\n",
    "        \"\"\"\n",
    "        return {\n",
    "            'model_state_dict': self.model.module.state_dict() if self.is_parallel else self.model.state_dict(),\n",
    "            'optimizer_state_dict': self.optimizer.state_dict(),\n",
    "        }\n",
    "\n"
   ]
  },
  {
   "cell_type": "code",
   "execution_count": 9,
   "metadata": {
    "scrolled": true
   },
   "outputs": [
    {
     "name": "stderr",
     "output_type": "stream",
     "text": [
      "Epoch 0, loss 7.191 : 100%|██████████| 74/74 [00:36<00:00,  2.03it/s]\n",
      "Val: N@1 0.261, N@5 0.355, N@10 0.397, R@1 0.261, R@5 0.444, R@10 0.577: 100%|██████████| 74/74 [00:12<00:00,  5.78it/s]\n"
     ]
    },
    {
     "name": "stdout",
     "output_type": "stream",
     "text": [
      "Update Best NDCG@10 Model at 0\n"
     ]
    },
    {
     "name": "stderr",
     "output_type": "stream",
     "text": [
      "Epoch 1, loss 5.795 : 100%|██████████| 74/74 [00:37<00:00,  2.00it/s]\n",
      "Val: N@1 0.332, N@5 0.436, N@10 0.477, R@1 0.332, R@5 0.531, R@10 0.660: 100%|██████████| 74/74 [00:13<00:00,  5.64it/s]\n"
     ]
    },
    {
     "name": "stdout",
     "output_type": "stream",
     "text": [
      "Update Best NDCG@10 Model at 1\n"
     ]
    },
    {
     "name": "stderr",
     "output_type": "stream",
     "text": [
      "Epoch 2, loss 4.985 : 100%|██████████| 74/74 [00:37<00:00,  1.96it/s]\n",
      "Val: N@1 0.467, N@5 0.561, N@10 0.593, R@1 0.467, R@5 0.646, R@10 0.744: 100%|██████████| 74/74 [00:13<00:00,  5.52it/s]\n"
     ]
    },
    {
     "name": "stdout",
     "output_type": "stream",
     "text": [
      "Update Best NDCG@10 Model at 2\n"
     ]
    },
    {
     "name": "stderr",
     "output_type": "stream",
     "text": [
      "Epoch 3, loss 4.231 : 100%|██████████| 74/74 [00:38<00:00,  1.93it/s]\n",
      "Val: N@1 0.563, N@5 0.643, N@10 0.669, R@1 0.563, R@5 0.713, R@10 0.794: 100%|██████████| 74/74 [00:13<00:00,  5.44it/s]\n"
     ]
    },
    {
     "name": "stdout",
     "output_type": "stream",
     "text": [
      "Update Best NDCG@10 Model at 3\n"
     ]
    },
    {
     "name": "stderr",
     "output_type": "stream",
     "text": [
      "Epoch 4, loss 3.647 : 100%|██████████| 74/74 [00:38<00:00,  1.91it/s]\n",
      "Val: N@1 0.616, N@5 0.688, N@10 0.711, R@1 0.616, R@5 0.752, R@10 0.823: 100%|██████████| 74/74 [00:13<00:00,  5.39it/s]\n"
     ]
    },
    {
     "name": "stdout",
     "output_type": "stream",
     "text": [
      "Update Best NDCG@10 Model at 4\n"
     ]
    },
    {
     "name": "stderr",
     "output_type": "stream",
     "text": [
      "Epoch 5, loss 3.384 : 100%|██████████| 74/74 [00:39<00:00,  1.90it/s]\n",
      "Val: N@1 0.672, N@5 0.728, N@10 0.745, R@1 0.672, R@5 0.776, R@10 0.831: 100%|██████████| 74/74 [00:13<00:00,  5.34it/s]\n"
     ]
    },
    {
     "name": "stdout",
     "output_type": "stream",
     "text": [
      "Update Best NDCG@10 Model at 5\n"
     ]
    },
    {
     "name": "stderr",
     "output_type": "stream",
     "text": [
      "Epoch 6, loss 2.997 : 100%|██████████| 74/74 [00:39<00:00,  1.89it/s]\n",
      "Val: N@1 0.694, N@5 0.741, N@10 0.760, R@1 0.694, R@5 0.783, R@10 0.841: 100%|██████████| 74/74 [00:13<00:00,  5.33it/s]\n"
     ]
    },
    {
     "name": "stdout",
     "output_type": "stream",
     "text": [
      "Update Best NDCG@10 Model at 6\n"
     ]
    },
    {
     "name": "stderr",
     "output_type": "stream",
     "text": [
      "Epoch 7, loss 2.809 : 100%|██████████| 74/74 [00:39<00:00,  1.88it/s]\n",
      "Val: N@1 0.726, N@5 0.767, N@10 0.781, R@1 0.726, R@5 0.804, R@10 0.847: 100%|██████████| 74/74 [00:13<00:00,  5.30it/s]\n"
     ]
    },
    {
     "name": "stdout",
     "output_type": "stream",
     "text": [
      "Update Best NDCG@10 Model at 7\n"
     ]
    },
    {
     "name": "stderr",
     "output_type": "stream",
     "text": [
      "Epoch 8, loss 2.636 : 100%|██████████| 74/74 [00:39<00:00,  1.88it/s]\n",
      "Val: N@1 0.749, N@5 0.785, N@10 0.797, R@1 0.749, R@5 0.817, R@10 0.853: 100%|██████████| 74/74 [00:13<00:00,  5.29it/s]\n"
     ]
    },
    {
     "name": "stdout",
     "output_type": "stream",
     "text": [
      "Update Best NDCG@10 Model at 8\n"
     ]
    },
    {
     "name": "stderr",
     "output_type": "stream",
     "text": [
      "Epoch 9, loss 2.538 : 100%|██████████| 74/74 [00:39<00:00,  1.88it/s]\n",
      "Val: N@1 0.758, N@5 0.790, N@10 0.802, R@1 0.758, R@5 0.820, R@10 0.856: 100%|██████████| 74/74 [00:13<00:00,  5.30it/s]\n"
     ]
    },
    {
     "name": "stdout",
     "output_type": "stream",
     "text": [
      "Update Best NDCG@10 Model at 9\n"
     ]
    },
    {
     "name": "stderr",
     "output_type": "stream",
     "text": [
      "Epoch 10, loss 2.343 : 100%|██████████| 74/74 [00:39<00:00,  1.88it/s]\n",
      "Val: N@1 0.768, N@5 0.800, N@10 0.811, R@1 0.768, R@5 0.828, R@10 0.861: 100%|██████████| 74/74 [00:14<00:00,  5.29it/s]\n"
     ]
    },
    {
     "name": "stdout",
     "output_type": "stream",
     "text": [
      "Update Best NDCG@10 Model at 10\n"
     ]
    },
    {
     "name": "stderr",
     "output_type": "stream",
     "text": [
      "Epoch 11, loss 2.298 : 100%|██████████| 74/74 [00:39<00:00,  1.87it/s]\n",
      "Val: N@1 0.773, N@5 0.805, N@10 0.816, R@1 0.773, R@5 0.833, R@10 0.867: 100%|██████████| 74/74 [00:13<00:00,  5.29it/s]\n"
     ]
    },
    {
     "name": "stdout",
     "output_type": "stream",
     "text": [
      "Update Best NDCG@10 Model at 11\n"
     ]
    },
    {
     "name": "stderr",
     "output_type": "stream",
     "text": [
      "Epoch 12, loss 2.162 : 100%|██████████| 74/74 [00:39<00:00,  1.87it/s]\n",
      "Val: N@1 0.781, N@5 0.811, N@10 0.821, R@1 0.781, R@5 0.837, R@10 0.869: 100%|██████████| 74/74 [00:13<00:00,  5.30it/s]\n"
     ]
    },
    {
     "name": "stdout",
     "output_type": "stream",
     "text": [
      "Update Best NDCG@10 Model at 12\n"
     ]
    },
    {
     "name": "stderr",
     "output_type": "stream",
     "text": [
      "Epoch 13, loss 2.112 : 100%|██████████| 74/74 [00:39<00:00,  1.87it/s]\n",
      "Val: N@1 0.783, N@5 0.813, N@10 0.825, R@1 0.783, R@5 0.840, R@10 0.876: 100%|██████████| 74/74 [00:14<00:00,  5.27it/s]\n"
     ]
    },
    {
     "name": "stdout",
     "output_type": "stream",
     "text": [
      "Update Best NDCG@10 Model at 13\n"
     ]
    },
    {
     "name": "stderr",
     "output_type": "stream",
     "text": [
      "Epoch 14, loss 2.050 : 100%|██████████| 74/74 [00:39<00:00,  1.87it/s]\n",
      "Val: N@1 0.790, N@5 0.819, N@10 0.829, R@1 0.790, R@5 0.845, R@10 0.875: 100%|██████████| 74/74 [00:14<00:00,  5.29it/s]\n"
     ]
    },
    {
     "name": "stdout",
     "output_type": "stream",
     "text": [
      "Update Best NDCG@10 Model at 14\n"
     ]
    },
    {
     "name": "stderr",
     "output_type": "stream",
     "text": [
      "Epoch 15, loss 1.977 : 100%|██████████| 74/74 [00:39<00:00,  1.87it/s]\n",
      "Val: N@1 0.791, N@5 0.819, N@10 0.829, R@1 0.791, R@5 0.844, R@10 0.875: 100%|██████████| 74/74 [00:14<00:00,  5.28it/s]\n",
      "Epoch 16, loss 1.951 : 100%|██████████| 74/74 [00:39<00:00,  1.87it/s]\n",
      "Val: N@1 0.800, N@5 0.825, N@10 0.835, R@1 0.800, R@5 0.847, R@10 0.879: 100%|██████████| 74/74 [00:14<00:00,  5.27it/s]\n"
     ]
    },
    {
     "name": "stdout",
     "output_type": "stream",
     "text": [
      "Update Best NDCG@10 Model at 16\n"
     ]
    },
    {
     "name": "stderr",
     "output_type": "stream",
     "text": [
      "Epoch 17, loss 1.959 : 100%|██████████| 74/74 [00:39<00:00,  1.87it/s]\n",
      "Val: N@1 0.799, N@5 0.825, N@10 0.836, R@1 0.799, R@5 0.850, R@10 0.882: 100%|██████████| 74/74 [00:14<00:00,  5.27it/s]\n"
     ]
    },
    {
     "name": "stdout",
     "output_type": "stream",
     "text": [
      "Update Best NDCG@10 Model at 17\n"
     ]
    },
    {
     "name": "stderr",
     "output_type": "stream",
     "text": [
      "Epoch 18, loss 1.917 : 100%|██████████| 74/74 [00:39<00:00,  1.87it/s]\n",
      "Val: N@1 0.803, N@5 0.828, N@10 0.837, R@1 0.803, R@5 0.850, R@10 0.880: 100%|██████████| 74/74 [00:13<00:00,  5.29it/s]\n"
     ]
    },
    {
     "name": "stdout",
     "output_type": "stream",
     "text": [
      "Update Best NDCG@10 Model at 18\n"
     ]
    },
    {
     "name": "stderr",
     "output_type": "stream",
     "text": [
      "Epoch 19, loss 1.812 : 100%|██████████| 74/74 [00:39<00:00,  1.86it/s]\n",
      "Val: N@1 0.804, N@5 0.830, N@10 0.839, R@1 0.804, R@5 0.853, R@10 0.880: 100%|██████████| 74/74 [00:14<00:00,  5.25it/s]\n"
     ]
    },
    {
     "name": "stdout",
     "output_type": "stream",
     "text": [
      "Update Best NDCG@10 Model at 19\n"
     ]
    },
    {
     "name": "stderr",
     "output_type": "stream",
     "text": [
      "Epoch 20, loss 1.788 : 100%|██████████| 74/74 [00:39<00:00,  1.86it/s]\n",
      "Val: N@1 0.805, N@5 0.832, N@10 0.841, R@1 0.805, R@5 0.856, R@10 0.883: 100%|██████████| 74/74 [00:14<00:00,  5.27it/s]\n"
     ]
    },
    {
     "name": "stdout",
     "output_type": "stream",
     "text": [
      "Update Best NDCG@10 Model at 20\n"
     ]
    },
    {
     "name": "stderr",
     "output_type": "stream",
     "text": [
      "Epoch 21, loss 1.712 : 100%|██████████| 74/74 [00:39<00:00,  1.86it/s]\n",
      "Val: N@1 0.806, N@5 0.833, N@10 0.842, R@1 0.806, R@5 0.856, R@10 0.885: 100%|██████████| 74/74 [00:14<00:00,  5.28it/s]\n"
     ]
    },
    {
     "name": "stdout",
     "output_type": "stream",
     "text": [
      "Update Best NDCG@10 Model at 21\n"
     ]
    },
    {
     "name": "stderr",
     "output_type": "stream",
     "text": [
      "Epoch 22, loss 1.699 : 100%|██████████| 74/74 [00:39<00:00,  1.86it/s]\n",
      "Val: N@1 0.805, N@5 0.831, N@10 0.841, R@1 0.805, R@5 0.853, R@10 0.885: 100%|██████████| 74/74 [00:14<00:00,  5.28it/s]\n",
      "Epoch 23, loss 1.697 : 100%|██████████| 74/74 [00:39<00:00,  1.86it/s]\n",
      "Val: N@1 0.810, N@5 0.835, N@10 0.843, R@1 0.810, R@5 0.857, R@10 0.883: 100%|██████████| 74/74 [00:14<00:00,  5.28it/s]\n"
     ]
    },
    {
     "name": "stdout",
     "output_type": "stream",
     "text": [
      "Update Best NDCG@10 Model at 23\n"
     ]
    },
    {
     "name": "stderr",
     "output_type": "stream",
     "text": [
      "Epoch 24, loss 1.655 : 100%|██████████| 74/74 [00:39<00:00,  1.86it/s]\n",
      "Val: N@1 0.813, N@5 0.839, N@10 0.847, R@1 0.813, R@5 0.860, R@10 0.886: 100%|██████████| 74/74 [00:13<00:00,  5.29it/s]\n"
     ]
    },
    {
     "name": "stdout",
     "output_type": "stream",
     "text": [
      "Update Best NDCG@10 Model at 24\n"
     ]
    },
    {
     "name": "stderr",
     "output_type": "stream",
     "text": [
      "Epoch 25, loss 1.580 : 100%|██████████| 74/74 [00:39<00:00,  1.88it/s]\n",
      "Val: N@1 0.813, N@5 0.836, N@10 0.846, R@1 0.813, R@5 0.857, R@10 0.887: 100%|██████████| 74/74 [00:13<00:00,  5.35it/s]\n",
      "Epoch 26, loss 1.564 : 100%|██████████| 74/74 [00:39<00:00,  1.89it/s]\n",
      "Val: N@1 0.811, N@5 0.835, N@10 0.844, R@1 0.811, R@5 0.856, R@10 0.886: 100%|██████████| 74/74 [00:13<00:00,  5.33it/s]\n",
      "Epoch 27, loss 1.527 : 100%|██████████| 74/74 [00:39<00:00,  1.88it/s]\n",
      "Val: N@1 0.813, N@5 0.836, N@10 0.845, R@1 0.813, R@5 0.857, R@10 0.884: 100%|██████████| 74/74 [00:13<00:00,  5.32it/s]\n",
      "Epoch 28, loss 1.529 : 100%|██████████| 74/74 [00:39<00:00,  1.87it/s]\n",
      "Val: N@1 0.816, N@5 0.839, N@10 0.848, R@1 0.816, R@5 0.859, R@10 0.886: 100%|██████████| 74/74 [00:14<00:00,  5.26it/s]\n"
     ]
    },
    {
     "name": "stdout",
     "output_type": "stream",
     "text": [
      "Update Best NDCG@10 Model at 28\n"
     ]
    },
    {
     "name": "stderr",
     "output_type": "stream",
     "text": [
      "Epoch 29, loss 1.496 : 100%|██████████| 74/74 [00:39<00:00,  1.86it/s]\n",
      "Val: N@1 0.817, N@5 0.840, N@10 0.848, R@1 0.817, R@5 0.860, R@10 0.886: 100%|██████████| 74/74 [00:14<00:00,  5.26it/s]\n"
     ]
    },
    {
     "name": "stdout",
     "output_type": "stream",
     "text": [
      "Update Best NDCG@10 Model at 29\n"
     ]
    },
    {
     "name": "stderr",
     "output_type": "stream",
     "text": [
      "Epoch 30, loss 1.457 : 100%|██████████| 74/74 [00:39<00:00,  1.87it/s]\n",
      "Val: N@1 0.814, N@5 0.837, N@10 0.846, R@1 0.814, R@5 0.857, R@10 0.885: 100%|██████████| 74/74 [00:14<00:00,  5.27it/s]\n",
      "Epoch 31, loss 1.469 : 100%|██████████| 74/74 [00:39<00:00,  1.87it/s]\n",
      "Val: N@1 0.817, N@5 0.841, N@10 0.849, R@1 0.817, R@5 0.861, R@10 0.886: 100%|██████████| 74/74 [00:14<00:00,  5.27it/s]\n"
     ]
    },
    {
     "name": "stdout",
     "output_type": "stream",
     "text": [
      "Update Best NDCG@10 Model at 31\n"
     ]
    },
    {
     "name": "stderr",
     "output_type": "stream",
     "text": [
      "Epoch 32, loss 1.432 : 100%|██████████| 74/74 [00:39<00:00,  1.87it/s]\n",
      "Val: N@1 0.818, N@5 0.840, N@10 0.849, R@1 0.818, R@5 0.860, R@10 0.887: 100%|██████████| 74/74 [00:14<00:00,  5.27it/s]\n"
     ]
    },
    {
     "name": "stdout",
     "output_type": "stream",
     "text": [
      "Update Best NDCG@10 Model at 32\n"
     ]
    },
    {
     "name": "stderr",
     "output_type": "stream",
     "text": [
      "Epoch 33, loss 1.399 : 100%|██████████| 74/74 [00:39<00:00,  1.87it/s]\n",
      "Val: N@1 0.817, N@5 0.839, N@10 0.848, R@1 0.817, R@5 0.859, R@10 0.886: 100%|██████████| 74/74 [00:14<00:00,  5.27it/s]\n",
      "Epoch 34, loss 1.379 : 100%|██████████| 74/74 [00:39<00:00,  1.86it/s]\n",
      "Val: N@1 0.816, N@5 0.840, N@10 0.848, R@1 0.816, R@5 0.861, R@10 0.886: 100%|██████████| 74/74 [00:14<00:00,  5.26it/s]\n",
      "Epoch 35, loss 1.372 : 100%|██████████| 74/74 [00:39<00:00,  1.87it/s]\n",
      "Val: N@1 0.816, N@5 0.840, N@10 0.848, R@1 0.816, R@5 0.861, R@10 0.887: 100%|██████████| 74/74 [00:13<00:00,  5.32it/s]\n",
      "Epoch 36, loss 1.344 : 100%|██████████| 74/74 [00:39<00:00,  1.89it/s]\n",
      "Val: N@1 0.817, N@5 0.840, N@10 0.849, R@1 0.817, R@5 0.861, R@10 0.887: 100%|██████████| 74/74 [00:13<00:00,  5.35it/s]\n",
      "Epoch 37, loss 1.338 : 100%|██████████| 74/74 [00:39<00:00,  1.89it/s]\n",
      "Val: N@1 0.819, N@5 0.842, N@10 0.850, R@1 0.819, R@5 0.862, R@10 0.888: 100%|██████████| 74/74 [00:13<00:00,  5.35it/s]\n"
     ]
    },
    {
     "name": "stdout",
     "output_type": "stream",
     "text": [
      "Update Best NDCG@10 Model at 37\n"
     ]
    },
    {
     "name": "stderr",
     "output_type": "stream",
     "text": [
      "Epoch 38, loss 1.323 : 100%|██████████| 74/74 [00:39<00:00,  1.88it/s]\n",
      "Val: N@1 0.819, N@5 0.842, N@10 0.850, R@1 0.819, R@5 0.862, R@10 0.888: 100%|██████████| 74/74 [00:13<00:00,  5.33it/s]\n"
     ]
    },
    {
     "name": "stdout",
     "output_type": "stream",
     "text": [
      "Update Best NDCG@10 Model at 38\n"
     ]
    },
    {
     "name": "stderr",
     "output_type": "stream",
     "text": [
      "Epoch 39, loss 1.319 : 100%|██████████| 74/74 [00:39<00:00,  1.87it/s]\n",
      "Val: N@1 0.820, N@5 0.842, N@10 0.850, R@1 0.820, R@5 0.862, R@10 0.888: 100%|██████████| 74/74 [00:13<00:00,  5.33it/s]\n",
      "Epoch 40, loss 1.283 : 100%|██████████| 74/74 [00:39<00:00,  1.87it/s]\n",
      "Val: N@1 0.822, N@5 0.845, N@10 0.853, R@1 0.822, R@5 0.866, R@10 0.890: 100%|██████████| 74/74 [00:14<00:00,  5.28it/s]\n"
     ]
    },
    {
     "name": "stdout",
     "output_type": "stream",
     "text": [
      "Update Best NDCG@10 Model at 40\n"
     ]
    },
    {
     "name": "stderr",
     "output_type": "stream",
     "text": [
      "Epoch 41, loss 1.258 : 100%|██████████| 74/74 [00:39<00:00,  1.87it/s]\n",
      "Val: N@1 0.820, N@5 0.843, N@10 0.851, R@1 0.820, R@5 0.864, R@10 0.889: 100%|██████████| 74/74 [00:14<00:00,  5.28it/s]\n",
      "Epoch 42, loss 1.262 : 100%|██████████| 74/74 [00:39<00:00,  1.87it/s]\n",
      "Val: N@1 0.823, N@5 0.846, N@10 0.855, R@1 0.823, R@5 0.867, R@10 0.892: 100%|██████████| 74/74 [00:13<00:00,  5.31it/s]\n"
     ]
    },
    {
     "name": "stdout",
     "output_type": "stream",
     "text": [
      "Update Best NDCG@10 Model at 42\n"
     ]
    },
    {
     "name": "stderr",
     "output_type": "stream",
     "text": [
      "Epoch 43, loss 1.240 : 100%|██████████| 74/74 [00:39<00:00,  1.87it/s]\n",
      "Val: N@1 0.822, N@5 0.844, N@10 0.852, R@1 0.822, R@5 0.864, R@10 0.888: 100%|██████████| 74/74 [00:13<00:00,  5.31it/s]\n",
      "Epoch 44, loss 1.228 : 100%|██████████| 74/74 [00:39<00:00,  1.87it/s]\n",
      "Val: N@1 0.823, N@5 0.845, N@10 0.853, R@1 0.823, R@5 0.865, R@10 0.888: 100%|██████████| 74/74 [00:13<00:00,  5.33it/s]\n",
      "Epoch 45, loss 1.221 : 100%|██████████| 74/74 [00:39<00:00,  1.88it/s]\n",
      "Val: N@1 0.820, N@5 0.844, N@10 0.852, R@1 0.820, R@5 0.865, R@10 0.890: 100%|██████████| 74/74 [00:13<00:00,  5.30it/s]\n",
      "Epoch 46, loss 1.219 : 100%|██████████| 74/74 [00:39<00:00,  1.87it/s]\n",
      "Val: N@1 0.823, N@5 0.844, N@10 0.852, R@1 0.823, R@5 0.863, R@10 0.888: 100%|██████████| 74/74 [00:13<00:00,  5.32it/s]\n",
      "Epoch 47, loss 1.182 : 100%|██████████| 74/74 [00:39<00:00,  1.87it/s]\n",
      "Val: N@1 0.821, N@5 0.844, N@10 0.852, R@1 0.821, R@5 0.864, R@10 0.888: 100%|██████████| 74/74 [00:13<00:00,  5.32it/s]\n",
      "Epoch 48, loss 1.202 : 100%|██████████| 74/74 [00:39<00:00,  1.87it/s]\n",
      "Val: N@1 0.824, N@5 0.846, N@10 0.854, R@1 0.824, R@5 0.865, R@10 0.889: 100%|██████████| 74/74 [00:13<00:00,  5.31it/s]\n",
      "Epoch 49, loss 1.201 : 100%|██████████| 74/74 [00:39<00:00,  1.87it/s]\n",
      "Val: N@1 0.824, N@5 0.846, N@10 0.854, R@1 0.824, R@5 0.866, R@10 0.889: 100%|██████████| 74/74 [00:13<00:00,  5.32it/s]\n",
      "Epoch 50, loss 1.151 : 100%|██████████| 74/74 [00:39<00:00,  1.88it/s]\n",
      "Val: N@1 0.825, N@5 0.846, N@10 0.854, R@1 0.825, R@5 0.865, R@10 0.890: 100%|██████████| 74/74 [00:13<00:00,  5.33it/s]\n",
      "Epoch 51, loss 1.178 : 100%|██████████| 74/74 [00:39<00:00,  1.87it/s]\n",
      "Val: N@1 0.823, N@5 0.845, N@10 0.852, R@1 0.823, R@5 0.865, R@10 0.887: 100%|██████████| 74/74 [00:13<00:00,  5.31it/s]\n",
      "Epoch 52, loss 1.124 : 100%|██████████| 74/74 [00:39<00:00,  1.87it/s]\n",
      "Val: N@1 0.826, N@5 0.847, N@10 0.855, R@1 0.826, R@5 0.866, R@10 0.891: 100%|██████████| 74/74 [00:13<00:00,  5.31it/s]\n"
     ]
    },
    {
     "name": "stdout",
     "output_type": "stream",
     "text": [
      "Update Best NDCG@10 Model at 52\n"
     ]
    },
    {
     "name": "stderr",
     "output_type": "stream",
     "text": [
      "Epoch 53, loss 1.148 : 100%|██████████| 74/74 [00:39<00:00,  1.87it/s]\n",
      "Val: N@1 0.825, N@5 0.846, N@10 0.854, R@1 0.825, R@5 0.864, R@10 0.890: 100%|██████████| 74/74 [00:13<00:00,  5.33it/s]\n",
      "Epoch 54, loss 1.099 : 100%|██████████| 74/74 [00:39<00:00,  1.87it/s]\n",
      "Val: N@1 0.827, N@5 0.847, N@10 0.855, R@1 0.827, R@5 0.865, R@10 0.889: 100%|██████████| 74/74 [00:13<00:00,  5.32it/s]\n",
      "Epoch 55, loss 1.096 : 100%|██████████| 74/74 [00:39<00:00,  1.87it/s]\n",
      "Val: N@1 0.826, N@5 0.847, N@10 0.855, R@1 0.826, R@5 0.867, R@10 0.890: 100%|██████████| 74/74 [00:13<00:00,  5.31it/s]\n",
      "Epoch 56, loss 1.105 : 100%|██████████| 74/74 [00:39<00:00,  1.87it/s]\n",
      "Val: N@1 0.824, N@5 0.847, N@10 0.854, R@1 0.824, R@5 0.867, R@10 0.889: 100%|██████████| 74/74 [00:13<00:00,  5.33it/s]\n",
      "Epoch 57, loss 1.089 : 100%|██████████| 74/74 [00:39<00:00,  1.87it/s]\n",
      "Val: N@1 0.824, N@5 0.846, N@10 0.854, R@1 0.824, R@5 0.865, R@10 0.890: 100%|██████████| 74/74 [00:13<00:00,  5.30it/s]\n",
      "Epoch 58, loss 1.081 : 100%|██████████| 74/74 [00:39<00:00,  1.87it/s]\n",
      "Val: N@1 0.825, N@5 0.847, N@10 0.854, R@1 0.825, R@5 0.866, R@10 0.889: 100%|██████████| 74/74 [00:13<00:00,  5.32it/s]\n",
      "Epoch 59, loss 1.077 : 100%|██████████| 74/74 [00:39<00:00,  1.87it/s]\n",
      "Val: N@1 0.824, N@5 0.845, N@10 0.853, R@1 0.824, R@5 0.863, R@10 0.888: 100%|██████████| 74/74 [00:13<00:00,  5.31it/s]\n"
     ]
    }
   ],
   "source": [
    "model = BERTModel(args)\n",
    "trainer = BERTTrainer(args, model, train_loader, val_loader, test_loader, args.experiment_dir)\n",
    "trainer.train()\n"
   ]
  },
  {
   "cell_type": "code",
   "execution_count": 10,
   "metadata": {},
   "outputs": [
    {
     "data": {
      "image/png": "[encoded data removed]",
      "text/plain": [
       "<Figure size 640x480 with 1 Axes>"
      ]
     },
     "metadata": {},
     "output_type": "display_data"
    }
   ],
   "source": [
    "for i, key in enumerate(trainer.metrics.keys()): \n",
    "    index = list(range(len(trainer.metrics[key])))\n",
    "    vals = trainer.metrics[key]\n",
    "    plt.plot(index, vals, label = key)\n",
    "    \n",
    "plt.legend()\n",
    "plt.show()"
   ]
  },
  {
   "cell_type": "code",
   "execution_count": 11,
   "metadata": {},
   "outputs": [
    {
     "name": "stdout",
     "output_type": "stream",
     "text": [
      "Test best model with test set!\n"
     ]
    },
    {
     "name": "stderr",
     "output_type": "stream",
     "text": [
      "Val: N@1 0.800, N@5 0.822, N@10 0.830, R@1 0.800, R@5 0.843, R@10 0.867: 100%|██████████| 74/74 [00:13<00:00,  5.32it/s]"
     ]
    },
    {
     "name": "stdout",
     "output_type": "stream",
     "text": [
      "{'Recall@10': 0.8671960605157388, 'NDCG@10': 0.830131886778651, 'Recall@5': 0.8434503972530365, 'NDCG@5': 0.8224741454060013, 'Recall@1': 0.7995400388498564, 'NDCG@1': 0.7995400388498564}\n"
     ]
    },
    {
     "name": "stderr",
     "output_type": "stream",
     "text": [
      "\n"
     ]
    }
   ],
   "source": [
    "trainer.test()"
   ]
  },
  {
   "cell_type": "code",
   "execution_count": null,
   "metadata": {},
   "outputs": [],
   "source": []
  }
 ],
 "metadata": {
  "interpreter": {
   "hash": "9dcd1cc6369c1c29c1ea44b58d29db1d72369ce7fafd67d4ddf55217073eaea3"
  },
  "kernelspec": {
   "display_name": "recsys",
   "language": "python",
   "name": "recsys_env"
  },
  "language_info": {
   "codemirror_mode": {
    "name": "ipython",
    "version": 3
   },
   "file_extension": ".py",
   "mimetype": "text/x-python",
   "name": "python",
   "nbconvert_exporter": "python",
   "pygments_lexer": "ipython3",
   "version": "3.7.10"
  }
 },
 "nbformat": 4,
 "nbformat_minor": 2
}
